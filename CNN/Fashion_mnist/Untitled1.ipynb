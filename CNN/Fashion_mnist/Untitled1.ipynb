{
  "nbformat": 4,
  "nbformat_minor": 0,
  "metadata": {
    "colab": {
      "name": "Untitled1.ipynb",
      "provenance": []
    },
    "kernelspec": {
      "name": "python3",
      "display_name": "Python 3"
    },
    "language_info": {
      "name": "python"
    },
    "accelerator": "GPU"
  },
  "cells": [
    {
      "cell_type": "markdown",
      "source": [
        "# Loading data to google colab"
      ],
      "metadata": {
        "id": "Hx41N6VNrvJC"
      }
    },
    {
      "cell_type": "code",
      "source": [
        "from google.colab import drive\n",
        "drive.mount(\"/content/gdrive\")"
      ],
      "metadata": {
        "colab": {
          "base_uri": "https://localhost:8080/"
        },
        "id": "8vJ6pJfXkGIF",
        "outputId": "16038748-3c4f-4f4c-a61e-05630ec3f58f"
      },
      "execution_count": 4,
      "outputs": [
        {
          "output_type": "stream",
          "name": "stdout",
          "text": [
            "Mounted at /content/gdrive\n"
          ]
        }
      ]
    },
    {
      "cell_type": "code",
      "execution_count": 6,
      "metadata": {
        "id": "NqQLpsLIjlK2"
      },
      "outputs": [],
      "source": [
        "import numpy as np\n",
        "from keras.datasets import fashion_mnist\n",
        "import matplotlib.pyplot as plt\n",
        "import os"
      ]
    },
    {
      "cell_type": "code",
      "source": [
        "(xtrain,ytrain),(xtest,ytest)=fashion_mnist.load_data()"
      ],
      "metadata": {
        "id": "mmLtTxamj13x"
      },
      "execution_count": 76,
      "outputs": []
    },
    {
      "cell_type": "code",
      "source": [
        "print(xtrain.shape)\n",
        "print(xtest.shape)\n",
        "print(ytrain.shape)\n",
        "print(ytest.shape)\n"
      ],
      "metadata": {
        "colab": {
          "base_uri": "https://localhost:8080/"
        },
        "id": "Keb4PqKSk6FB",
        "outputId": "05b39760-ccad-418b-b666-e7401e79f81d"
      },
      "execution_count": 11,
      "outputs": [
        {
          "output_type": "stream",
          "name": "stdout",
          "text": [
            "(60000, 28, 28)\n",
            "(10000, 28, 28)\n",
            "(60000,)\n",
            "(10000,)\n"
          ]
        }
      ]
    },
    {
      "cell_type": "code",
      "source": [
        "plt.imshow(xtrain[0])"
      ],
      "metadata": {
        "colab": {
          "base_uri": "https://localhost:8080/",
          "height": 285
        },
        "id": "VWhUIM51lADi",
        "outputId": "35a6a47f-5735-4245-acb3-fe23d2a494bb"
      },
      "execution_count": 12,
      "outputs": [
        {
          "output_type": "execute_result",
          "data": {
            "text/plain": [
              "<matplotlib.image.AxesImage at 0x7f4c48a28dd0>"
            ]
          },
          "metadata": {},
          "execution_count": 12
        },
        {
          "output_type": "display_data",
          "data": {
            "image/png": "[encoded data removed]",
            "text/plain": [
              "<Figure size 432x288 with 1 Axes>"
            ]
          },
          "metadata": {
            "needs_background": "light"
          }
        }
      ]
    },
    {
      "cell_type": "code",
      "source": [
        "ytrain"
      ],
      "metadata": {
        "colab": {
          "base_uri": "https://localhost:8080/"
        },
        "id": "aajxkQX-lKy3",
        "outputId": "d4b1a193-7711-4644-a39c-be6b50ea37ab"
      },
      "execution_count": 13,
      "outputs": [
        {
          "output_type": "execute_result",
          "data": {
            "text/plain": [
              "array([9, 0, 0, ..., 3, 0, 5], dtype=uint8)"
            ]
          },
          "metadata": {},
          "execution_count": 13
        }
      ]
    },
    {
      "cell_type": "code",
      "source": [
        "print(xtrain.max())\n",
        "print(xtrain.min())"
      ],
      "metadata": {
        "colab": {
          "base_uri": "https://localhost:8080/"
        },
        "id": "09FSnNnelOn6",
        "outputId": "a458e6ba-1815-4bc8-9584-319c39af38c9"
      },
      "execution_count": 16,
      "outputs": [
        {
          "output_type": "stream",
          "name": "stdout",
          "text": [
            "255\n",
            "0\n"
          ]
        }
      ]
    },
    {
      "cell_type": "code",
      "source": [
        "xtrain=xtrain/255\n",
        "xtest=xtest/255"
      ],
      "metadata": {
        "id": "TQCzC6GPlXWn"
      },
      "execution_count": 17,
      "outputs": []
    },
    {
      "cell_type": "markdown",
      "source": [
        "distribution of differant categories"
      ],
      "metadata": {
        "id": "_mEXF1kDr67O"
      }
    },
    {
      "cell_type": "code",
      "source": [
        "plt.hist(ytrain,bins=10)"
      ],
      "metadata": {
        "colab": {
          "base_uri": "https://localhost:8080/",
          "height": 343
        },
        "id": "a1YKLDgGljYu",
        "outputId": "c7862acc-3e32-4766-e8d2-2c7e6ba77fed"
      },
      "execution_count": 19,
      "outputs": [
        {
          "output_type": "execute_result",
          "data": {
            "text/plain": [
              "(array([6000., 6000., 6000., 6000., 6000., 6000., 6000., 6000., 6000.,\n",
              "        6000.]),\n",
              " array([0. , 0.9, 1.8, 2.7, 3.6, 4.5, 5.4, 6.3, 7.2, 8.1, 9. ]),\n",
              " <a list of 10 Patch objects>)"
            ]
          },
          "metadata": {},
          "execution_count": 19
        },
        {
          "output_type": "display_data",
          "data": {
            "image/png": "[encoded data removed]",
            "text/plain": [
              "<Figure size 432x288 with 1 Axes>"
            ]
          },
          "metadata": {
            "needs_background": "light"
          }
        }
      ]
    },
    {
      "cell_type": "markdown",
      "source": [
        "# Reshaping data and converting label one hot encoding"
      ],
      "metadata": {
        "id": "l9WNvRdHsAsd"
      }
    },
    {
      "cell_type": "code",
      "source": [
        "xtrain=xtrain.reshape(60000, 28, 28, 1)\n",
        "xtest=xtest.reshape(10000, 28, 28, 1)"
      ],
      "metadata": {
        "id": "EINB9bLwlsNn"
      },
      "execution_count": 21,
      "outputs": []
    },
    {
      "cell_type": "code",
      "source": [
        "from tensorflow.keras.utils import to_categorical"
      ],
      "metadata": {
        "id": "my0Kl9KkmFFW"
      },
      "execution_count": 23,
      "outputs": []
    },
    {
      "cell_type": "code",
      "source": [
        "ytrain=to_categorical(ytrain)"
      ],
      "metadata": {
        "id": "-x9CZcrFmUVO"
      },
      "execution_count": 24,
      "outputs": []
    },
    {
      "cell_type": "markdown",
      "source": [
        "# Model"
      ],
      "metadata": {
        "id": "DtuW7sodsKVP"
      }
    },
    {
      "cell_type": "code",
      "source": [
        "from tensorflow.keras.models import Sequential\n",
        "from tensorflow.keras.layers import Conv2D,MaxPool2D,Flatten,Dense\n",
        "from tensorflow.keras.callbacks import EarlyStopping"
      ],
      "metadata": {
        "id": "yDNpWJ_4mkx-"
      },
      "execution_count": 25,
      "outputs": []
    },
    {
      "cell_type": "code",
      "source": [
        "model1= Sequential()\n",
        "\n",
        "# Concolutional layers\n",
        "model1.add(Conv2D(filters=32,kernel_size=(4,4),activation=\"relu\",input_shape=(28,28,1)))\n",
        "model1.add(MaxPool2D(pool_size=(2,2)))\n",
        "\n",
        "model1.add(Conv2D(filters=64,kernel_size=(4,4),activation=\"relu\",input_shape=(28,28,1)))\n",
        "model1.add(MaxPool2D(pool_size=(2,2)))\n",
        "\n",
        "model1.add(Flatten())\n",
        "\n",
        "model1.add(Dense(128,activation=\"relu\"))\n",
        "\n",
        "model1.add(Dense(10,activation=\"softmax\"))\n",
        "\n",
        "model1.compile(loss=\"categorical_crossentropy\",optimizer=\"adam\",metrics=[\"accuracy\"])"
      ],
      "metadata": {
        "id": "wF3_NLmmm8oE"
      },
      "execution_count": 53,
      "outputs": []
    },
    {
      "cell_type": "code",
      "source": [
        "model1.summary()"
      ],
      "metadata": {
        "colab": {
          "base_uri": "https://localhost:8080/"
        },
        "id": "QBdi_AAaoUUj",
        "outputId": "d8b7ea57-0912-497e-96c9-ec995ad4f8ef"
      },
      "execution_count": 54,
      "outputs": [
        {
          "output_type": "stream",
          "name": "stdout",
          "text": [
            "Model: \"sequential_8\"\n",
            "_________________________________________________________________\n",
            " Layer (type)                Output Shape              Param #   \n",
            "=================================================================\n",
            " conv2d_22 (Conv2D)          (None, 25, 25, 32)        544       \n",
            "                                                                 \n",
            " max_pooling2d_21 (MaxPoolin  (None, 12, 12, 32)       0         \n",
            " g2D)                                                            \n",
            "                                                                 \n",
            " conv2d_23 (Conv2D)          (None, 9, 9, 64)          32832     \n",
            "                                                                 \n",
            " max_pooling2d_22 (MaxPoolin  (None, 4, 4, 64)         0         \n",
            " g2D)                                                            \n",
            "                                                                 \n",
            " flatten_3 (Flatten)         (None, 1024)              0         \n",
            "                                                                 \n",
            " dense_6 (Dense)             (None, 128)               131200    \n",
            "                                                                 \n",
            " dense_7 (Dense)             (None, 10)                1290      \n",
            "                                                                 \n",
            "=================================================================\n",
            "Total params: 165,866\n",
            "Trainable params: 165,866\n",
            "Non-trainable params: 0\n",
            "_________________________________________________________________\n"
          ]
        }
      ]
    },
    {
      "cell_type": "code",
      "source": [
        "es=EarlyStopping(patience=2)"
      ],
      "metadata": {
        "id": "VcwdrWgGprbi"
      },
      "execution_count": 55,
      "outputs": []
    },
    {
      "cell_type": "code",
      "source": [
        "model1.fit(xtrain,ytrain,validation_data=(xtest,ytest),epochs=25,callbacks=[es])"
      ],
      "metadata": {
        "colab": {
          "base_uri": "https://localhost:8080/"
        },
        "id": "5qqMLg3dpOKa",
        "outputId": "8c5653d1-79c0-4e00-af61-4c7e51fb4334"
      },
      "execution_count": 56,
      "outputs": [
        {
          "output_type": "stream",
          "name": "stdout",
          "text": [
            "Epoch 1/25\n",
            "1875/1875 [==============================] - 16s 8ms/step - loss: 0.4829 - accuracy: 0.8223 - val_loss: 0.4020 - val_accuracy: 0.8545\n",
            "Epoch 2/25\n",
            "1875/1875 [==============================] - 13s 7ms/step - loss: 0.3245 - accuracy: 0.8816 - val_loss: 0.3300 - val_accuracy: 0.8774\n",
            "Epoch 3/25\n",
            "1875/1875 [==============================] - 13s 7ms/step - loss: 0.2781 - accuracy: 0.8970 - val_loss: 0.2979 - val_accuracy: 0.8922\n",
            "Epoch 4/25\n",
            "1875/1875 [==============================] - 12s 7ms/step - loss: 0.2450 - accuracy: 0.9093 - val_loss: 0.2866 - val_accuracy: 0.8960\n",
            "Epoch 5/25\n",
            "1875/1875 [==============================] - 14s 8ms/step - loss: 0.2219 - accuracy: 0.9173 - val_loss: 0.2754 - val_accuracy: 0.9015\n",
            "Epoch 6/25\n",
            "1875/1875 [==============================] - 13s 7ms/step - loss: 0.2030 - accuracy: 0.9223 - val_loss: 0.2806 - val_accuracy: 0.8997\n",
            "Epoch 7/25\n",
            "1875/1875 [==============================] - 15s 8ms/step - loss: 0.1823 - accuracy: 0.9315 - val_loss: 0.2862 - val_accuracy: 0.9040\n"
          ]
        },
        {
          "output_type": "execute_result",
          "data": {
            "text/plain": [
              "<keras.callbacks.History at 0x7f4b58f7aa10>"
            ]
          },
          "metadata": {},
          "execution_count": 56
        }
      ]
    },
    {
      "cell_type": "code",
      "source": [
        "import pandas as pd\n",
        "results=pd.DataFrame(model1.history.history)"
      ],
      "metadata": {
        "id": "EwFjixT7ph4x"
      },
      "execution_count": 57,
      "outputs": []
    },
    {
      "cell_type": "code",
      "source": [
        "results.columns"
      ],
      "metadata": {
        "colab": {
          "base_uri": "https://localhost:8080/"
        },
        "id": "DV50_vFKqhMr",
        "outputId": "e02c6cb2-f437-4d37-9432-b1e95945f4b4"
      },
      "execution_count": 58,
      "outputs": [
        {
          "output_type": "execute_result",
          "data": {
            "text/plain": [
              "Index(['loss', 'accuracy', 'val_loss', 'val_accuracy'], dtype='object')"
            ]
          },
          "metadata": {},
          "execution_count": 58
        }
      ]
    },
    {
      "cell_type": "markdown",
      "source": [
        "# Results"
      ],
      "metadata": {
        "id": "AoHtdufvsPdY"
      }
    },
    {
      "cell_type": "code",
      "source": [
        "results[[\"loss\",\"val_loss\"]].plot()"
      ],
      "metadata": {
        "colab": {
          "base_uri": "https://localhost:8080/",
          "height": 285
        },
        "id": "YjMBnqLFqSTN",
        "outputId": "0b560595-5b81-4cc8-ac90-bb69f5aca89c"
      },
      "execution_count": 59,
      "outputs": [
        {
          "output_type": "execute_result",
          "data": {
            "text/plain": [
              "<matplotlib.axes._subplots.AxesSubplot at 0x7f4b58fb3dd0>"
            ]
          },
          "metadata": {},
          "execution_count": 59
        },
        {
          "output_type": "display_data",
          "data": {
            "image/png": "[encoded data removed]",
            "text/plain": [
              "<Figure size 432x288 with 1 Axes>"
            ]
          },
          "metadata": {
            "needs_background": "light"
          }
        }
      ]
    },
    {
      "cell_type": "code",
      "source": [
        "results[[\"accuracy\",\"val_accuracy\"]].plot()"
      ],
      "metadata": {
        "colab": {
          "base_uri": "https://localhost:8080/",
          "height": 285
        },
        "id": "yMMHyGZqqftF",
        "outputId": "bde94567-0b05-4358-9c73-cf1132cc50aa"
      },
      "execution_count": 60,
      "outputs": [
        {
          "output_type": "execute_result",
          "data": {
            "text/plain": [
              "<matplotlib.axes._subplots.AxesSubplot at 0x7f4b565b8390>"
            ]
          },
          "metadata": {},
          "execution_count": 60
        },
        {
          "output_type": "display_data",
          "data": {
            "image/png": "[encoded data removed]",
            "text/plain": [
              "<Figure size 432x288 with 1 Axes>"
            ]
          },
          "metadata": {
            "needs_background": "light"
          }
        }
      ]
    },
    {
      "cell_type": "markdown",
      "source": [
        "**Prediction**"
      ],
      "metadata": {
        "id": "6EcRSG0wsZL4"
      }
    },
    {
      "cell_type": "code",
      "source": [
        "prediction=np.argmax(model1.predict(xtest), axis=-1)"
      ],
      "metadata": {
        "id": "_wF-e7qvsasA"
      },
      "execution_count": 63,
      "outputs": []
    },
    {
      "cell_type": "code",
      "source": [
        "from sklearn import metrics"
      ],
      "metadata": {
        "id": "oH_PLVrpsgai"
      },
      "execution_count": 67,
      "outputs": []
    },
    {
      "cell_type": "code",
      "source": [
        "print(metrics.classification_report(ytest,prediction))"
      ],
      "metadata": {
        "colab": {
          "base_uri": "https://localhost:8080/"
        },
        "id": "ISm5_-Q8shMC",
        "outputId": "84517b42-00f0-45e6-b7e0-587da3f86a88"
      },
      "execution_count": 78,
      "outputs": [
        {
          "output_type": "stream",
          "name": "stdout",
          "text": [
            "              precision    recall  f1-score   support\n",
            "\n",
            "           0       0.80      0.90      0.85      1000\n",
            "           1       0.98      0.99      0.98      1000\n",
            "           2       0.82      0.89      0.86      1000\n",
            "           3       0.93      0.90      0.91      1000\n",
            "           4       0.82      0.87      0.85      1000\n",
            "           5       0.98      0.97      0.98      1000\n",
            "           6       0.81      0.62      0.70      1000\n",
            "           7       0.95      0.97      0.96      1000\n",
            "           8       0.99      0.97      0.98      1000\n",
            "           9       0.96      0.96      0.96      1000\n",
            "\n",
            "    accuracy                           0.90     10000\n",
            "   macro avg       0.90      0.90      0.90     10000\n",
            "weighted avg       0.90      0.90      0.90     10000\n",
            "\n"
          ]
        }
      ]
    },
    {
      "cell_type": "code",
      "source": [
        "metrics.confusion_matrix(prediction,ytest)"
      ],
      "metadata": {
        "colab": {
          "base_uri": "https://localhost:8080/"
        },
        "id": "18svhuwbteb5",
        "outputId": "230591fb-396a-4caa-a389-de68cf3f20f5"
      },
      "execution_count": 82,
      "outputs": [
        {
          "output_type": "execute_result",
          "data": {
            "text/plain": [
              "array([[904,   3,  17,  23,   1,   0, 178,   0,   0,   0],\n",
              "       [  2, 986,   2,  13,   1,   0,   5,   0,   1,   0],\n",
              "       [ 26,   0, 892,  11,  66,   0,  80,   0,  10,   0],\n",
              "       [ 13,   9,  12, 896,  18,   0,  15,   0,   4,   0],\n",
              "       [  3,   1,  43,  37, 874,   0, 101,   0,   5,   0],\n",
              "       [  1,   0,   0,   0,   0, 972,   0,  10,   2,   5],\n",
              "       [ 47,   0,  34,  19,  39,   0, 619,   0,   6,   0],\n",
              "       [  0,   0,   0,   0,   0,  14,   0, 970,   3,  34],\n",
              "       [  4,   1,   0,   1,   1,   0,   2,   0, 966,   0],\n",
              "       [  0,   0,   0,   0,   0,  14,   0,  20,   3, 961]])"
            ]
          },
          "metadata": {},
          "execution_count": 82
        }
      ]
    }
  ]
}