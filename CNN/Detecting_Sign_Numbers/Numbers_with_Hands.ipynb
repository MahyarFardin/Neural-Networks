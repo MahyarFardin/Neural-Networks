{
  "nbformat": 4,
  "nbformat_minor": 0,
  "metadata": {
    "colab": {
      "name": "Numbers_with_Hands.ipynb",
      "provenance": [],
      "collapsed_sections": []
    },
    "kernelspec": {
      "name": "python3",
      "display_name": "Python 3"
    },
    "language_info": {
      "name": "python"
    },
    "accelerator": "GPU"
  },
  "cells": [
    {
      "cell_type": "code",
      "execution_count": 2,
      "metadata": {
        "colab": {
          "base_uri": "https://localhost:8080/"
        },
        "id": "1PYz1PtKYHm3",
        "outputId": "2287b699-49ac-45b3-8e1f-7317e76221df"
      },
      "outputs": [
        {
          "output_type": "stream",
          "name": "stdout",
          "text": [
            "Mounted at /content/gdirve\n"
          ]
        }
      ],
      "source": [
        "from google.colab import drive\n",
        "drive.mount(\"/content/gdirve\")"
      ]
    },
    {
      "cell_type": "code",
      "source": [
        "!unzip \"/content/gdirve/MyDrive/gdriveupmebot/archive.zip\" -d \"/tmp/Data\""
      ],
      "metadata": {
        "id": "BoZ1nbScYN5y"
      },
      "execution_count": null,
      "outputs": []
    },
    {
      "cell_type": "code",
      "source": [
        "import os\n",
        "import numpy as np\n",
        "from matplotlib.image import imread\n",
        "from PIL import Image\n",
        "import seaborn as sns\n",
        "import matplotlib.pyplot as plt\n",
        "import random\n",
        "from tensorflow.keras.models import Sequential\n",
        "from tensorflow.keras.layers import Dense,Conv2D,MaxPool2D,Flatten,Dropout,BatchNormalization\n",
        "from tensorflow.keras.callbacks import EarlyStopping\n",
        "from sklearn.metrics import classification_report, confusion_matrix, roc_curve, RocCurveDisplay\n",
        "from tensorflow.keras.utils import to_categorical\n",
        "from sklearn.metrics import classification_report, confusion_matrix"
      ],
      "metadata": {
        "id": "8_jbt4y-Yh5G"
      },
      "execution_count": 38,
      "outputs": []
    },
    {
      "cell_type": "code",
      "source": [
        "train_dir=\"/tmp/Data/train/train\"\n",
        "test_dir=\"/tmp/Data/test/test\""
      ],
      "metadata": {
        "id": "CDEsAQQeY85G"
      },
      "execution_count": 5,
      "outputs": []
    },
    {
      "cell_type": "code",
      "source": [
        "for pic in os.listdir(train_dir):\n",
        "  print(pic+\": \"+ str(len(os.listdir(train_dir+\"/\"+pic))))"
      ],
      "metadata": {
        "colab": {
          "base_uri": "https://localhost:8080/"
        },
        "id": "-IDbxRUZZPA3",
        "outputId": "8228eb79-b577-4b1d-fddf-a5b7ddde06ce"
      },
      "execution_count": 6,
      "outputs": [
        {
          "output_type": "stream",
          "name": "stdout",
          "text": [
            "2: 900\n",
            "4: 900\n",
            "18: 900\n",
            "15: 900\n",
            "6: 900\n",
            "3: 900\n",
            "1: 900\n",
            "0: 900\n",
            "12: 900\n",
            "11: 900\n",
            "8: 900\n",
            "19: 900\n",
            "9: 900\n",
            "5: 900\n",
            "16: 900\n",
            "14: 900\n",
            "10: 900\n",
            "17: 900\n",
            "13: 900\n",
            "7: 900\n"
          ]
        }
      ]
    },
    {
      "cell_type": "code",
      "source": [
        "for pic in os.listdir(test_dir):\n",
        "  print(pic+\": \"+ str(len(os.listdir(test_dir+\"/\"+pic))))"
      ],
      "metadata": {
        "colab": {
          "base_uri": "https://localhost:8080/"
        },
        "id": "PM6BjcF3Zhuq",
        "outputId": "800e887c-a08c-4a57-e60d-77a04ac1a9a8"
      },
      "execution_count": 7,
      "outputs": [
        {
          "output_type": "stream",
          "name": "stdout",
          "text": [
            "2: 300\n",
            "4: 300\n",
            "18: 300\n",
            "15: 300\n",
            "6: 300\n",
            "3: 300\n",
            "1: 300\n",
            "0: 300\n",
            "12: 300\n",
            "11: 300\n",
            "8: 300\n",
            "19: 300\n",
            "9: 300\n",
            "5: 300\n",
            "16: 300\n",
            "14: 300\n",
            "10: 300\n",
            "17: 300\n",
            "13: 300\n",
            "7: 300\n"
          ]
        }
      ]
    },
    {
      "cell_type": "code",
      "source": [
        "print(\"train data is: \"+str(900*20))\n",
        "print(\"test data is: \"+str(300*20))"
      ],
      "metadata": {
        "colab": {
          "base_uri": "https://localhost:8080/"
        },
        "id": "0q7CdI9_Zprq",
        "outputId": "c5241b29-4df4-49b3-9165-78e511b1eac9"
      },
      "execution_count": 8,
      "outputs": [
        {
          "output_type": "stream",
          "name": "stdout",
          "text": [
            "train data is: 18000\n",
            "test data is: 6000\n"
          ]
        }
      ]
    },
    {
      "cell_type": "code",
      "source": [
        "sample_pic=Image.open(train_dir+\"/7/\"+\"406.jpg\")"
      ],
      "metadata": {
        "id": "OWWUGj2TZ0ad"
      },
      "execution_count": 9,
      "outputs": []
    },
    {
      "cell_type": "code",
      "source": [
        "sample_pic.size"
      ],
      "metadata": {
        "colab": {
          "base_uri": "https://localhost:8080/"
        },
        "id": "oj8pu0z7aKYO",
        "outputId": "de9c5def-60c3-44f5-d071-de11a2dd7570"
      },
      "execution_count": 10,
      "outputs": [
        {
          "output_type": "execute_result",
          "data": {
            "text/plain": [
              "(50, 50)"
            ]
          },
          "metadata": {},
          "execution_count": 10
        }
      ]
    },
    {
      "cell_type": "code",
      "source": [
        "sample_pic.mode"
      ],
      "metadata": {
        "colab": {
          "base_uri": "https://localhost:8080/",
          "height": 35
        },
        "id": "5dIs7f-1aNwu",
        "outputId": "7f97408f-8965-4d4b-fd91-3726d74f25b0"
      },
      "execution_count": 11,
      "outputs": [
        {
          "output_type": "execute_result",
          "data": {
            "application/vnd.google.colaboratory.intrinsic+json": {
              "type": "string"
            },
            "text/plain": [
              "'L'"
            ]
          },
          "metadata": {},
          "execution_count": 11
        }
      ]
    },
    {
      "cell_type": "code",
      "source": [
        "width=[]\n",
        "height=[]\n",
        "channels=[]\n",
        "\n",
        "for subDir in os.listdir(train_dir):\n",
        "  for pic in os.listdir(train_dir+\"/\"+subDir):\n",
        "    temp = Image.open(train_dir+\"/\"+subDir+\"/\"+pic)\n",
        "    widtht, heightt= temp.size\n",
        "\n",
        "    width.append(widtht)\n",
        "    height.append(heightt)\n",
        "    channels.append(temp.mode)"
      ],
      "metadata": {
        "id": "NDWUHVemaRNP"
      },
      "execution_count": 12,
      "outputs": []
    },
    {
      "cell_type": "code",
      "source": [
        "sns.jointplot(width, height)"
      ],
      "metadata": {
        "colab": {
          "base_uri": "https://localhost:8080/",
          "height": 513
        },
        "id": "q1FhVIkpa6T0",
        "outputId": "6eeea1b6-1609-41b1-ae6c-5b5bbc8744c3"
      },
      "execution_count": 13,
      "outputs": [
        {
          "output_type": "stream",
          "name": "stderr",
          "text": [
            "/usr/local/lib/python3.7/dist-packages/seaborn/_decorators.py:43: FutureWarning: Pass the following variables as keyword args: x, y. From version 0.12, the only valid positional argument will be `data`, and passing other arguments without an explicit keyword will result in an error or misinterpretation.\n",
            "  FutureWarning\n"
          ]
        },
        {
          "output_type": "execute_result",
          "data": {
            "text/plain": [
              "<seaborn.axisgrid.JointGrid at 0x7ff336fd20d0>"
            ]
          },
          "metadata": {},
          "execution_count": 13
        },
        {
          "output_type": "display_data",
          "data": {
            "image/png": "[encoded data removed]",
            "text/plain": [
              "<Figure size 432x432 with 3 Axes>"
            ]
          },
          "metadata": {
            "needs_background": "light"
          }
        }
      ]
    },
    {
      "cell_type": "code",
      "source": [
        "sns.histplot(channels)"
      ],
      "metadata": {
        "colab": {
          "base_uri": "https://localhost:8080/",
          "height": 282
        },
        "id": "YDnL0EJpcDvf",
        "outputId": "1a4b4104-25ad-4606-c50e-a68810f9d825"
      },
      "execution_count": 14,
      "outputs": [
        {
          "output_type": "execute_result",
          "data": {
            "text/plain": [
              "<matplotlib.axes._subplots.AxesSubplot at 0x7ff3345cc550>"
            ]
          },
          "metadata": {},
          "execution_count": 14
        },
        {
          "output_type": "display_data",
          "data": {
            "image/png": "[encoded data removed]",
            "text/plain": [
              "<Figure size 432x288 with 1 Axes>"
            ]
          },
          "metadata": {
            "needs_background": "light"
          }
        }
      ]
    },
    {
      "cell_type": "code",
      "source": [
        "print(np.max(np.array(sample_pic)))\n",
        "print(np.min(np.array(sample_pic)))"
      ],
      "metadata": {
        "colab": {
          "base_uri": "https://localhost:8080/"
        },
        "id": "Z8NQqflocIYO",
        "outputId": "36cc532e-d4fc-403d-ad3a-3cd9d5e10776"
      },
      "execution_count": 15,
      "outputs": [
        {
          "output_type": "stream",
          "name": "stdout",
          "text": [
            "255\n",
            "0\n"
          ]
        }
      ]
    },
    {
      "cell_type": "code",
      "source": [
        "train_data=[]\n",
        "test_data=[]"
      ],
      "metadata": {
        "id": "CWyq6pEccS7P"
      },
      "execution_count": 16,
      "outputs": []
    },
    {
      "cell_type": "code",
      "source": [
        "for subDir in range(20):\n",
        "  for pic in os.listdir(train_dir+\"/\"+str(subDir)):\n",
        "    train_data.append([np.asarray(Image.open(str(train_dir+\"/\"+str(subDir)+\"/\"+pic))).astype(\"float32\"), subDir])\n",
        "\n",
        "\n",
        "for subDir in range(20):\n",
        "  for pic in os.listdir(test_dir+\"/\"+str(subDir)):\n",
        "    test_data.append([np.asarray(Image.open(str(test_dir+\"/\"+str(subDir)+\"/\"+pic))).astype(\"float32\"), subDir])"
      ],
      "metadata": {
        "id": "V1-zwi5kcshr"
      },
      "execution_count": 17,
      "outputs": []
    },
    {
      "cell_type": "code",
      "source": [
        "train_data = [[x[0]/255,x[1]] for x in train_data]"
      ],
      "metadata": {
        "id": "e7rUSNxkymQ8"
      },
      "execution_count": 18,
      "outputs": []
    },
    {
      "cell_type": "code",
      "source": [
        "test_data = [[x[0]/255,x[1]] for x in test_data]"
      ],
      "metadata": {
        "id": "lzbWc0TWzZbm"
      },
      "execution_count": 19,
      "outputs": []
    },
    {
      "cell_type": "code",
      "source": [
        "random.shuffle(train_data)\n",
        "random.shuffle(test_data)"
      ],
      "metadata": {
        "id": "1XTiUMEif8AR"
      },
      "execution_count": 20,
      "outputs": []
    },
    {
      "cell_type": "code",
      "source": [
        "def plot_defects(image, rows, cols):\n",
        "    fig, ax = plt.subplots(rows, cols, figsize=(17, 17))\n",
        "    n = 0\n",
        "    for i in range(rows):\n",
        "        for j in range(cols):\n",
        "            ax[i, j].set_xticks([])\n",
        "            ax[i, j].set_yticks([])\n",
        "            ax[i, j].imshow(image[n][0])\n",
        "            n += 1"
      ],
      "metadata": {
        "id": "H3QKNH-yeL8g"
      },
      "execution_count": 21,
      "outputs": []
    },
    {
      "cell_type": "code",
      "source": [
        "plot_defects(train_data, 5, 5)"
      ],
      "metadata": {
        "colab": {
          "base_uri": "https://localhost:8080/",
          "height": 959
        },
        "id": "fPAUVftxf3pi",
        "outputId": "4a78f8fa-27f6-4c8e-ff97-efb43503d2ee"
      },
      "execution_count": 22,
      "outputs": [
        {
          "output_type": "display_data",
          "data": {
            "image/png": "[encoded data removed]",
            "text/plain": [
              "<Figure size 1224x1224 with 25 Axes>"
            ]
          },
          "metadata": {}
        }
      ]
    },
    {
      "cell_type": "code",
      "source": [
        "xtrain=[x[0] for x in train_data]\n",
        "ytrain=to_categorical([x[1] for x in train_data])"
      ],
      "metadata": {
        "id": "4zsrIP-Q0DuC"
      },
      "execution_count": 23,
      "outputs": []
    },
    {
      "cell_type": "code",
      "source": [
        "xtrain=np.array(xtrain).reshape(-1,50,50,1)"
      ],
      "metadata": {
        "id": "NEtmOZv104CL"
      },
      "execution_count": 24,
      "outputs": []
    },
    {
      "cell_type": "code",
      "source": [
        "len(ytrain[0])"
      ],
      "metadata": {
        "colab": {
          "base_uri": "https://localhost:8080/"
        },
        "id": "Pvnv6XzE0ss8",
        "outputId": "687deacb-c8a0-421e-ae70-2baada0ec1d0"
      },
      "execution_count": 25,
      "outputs": [
        {
          "output_type": "execute_result",
          "data": {
            "text/plain": [
              "20"
            ]
          },
          "metadata": {},
          "execution_count": 25
        }
      ]
    },
    {
      "cell_type": "code",
      "source": [
        "xtest=[x[0] for x in test_data]\n",
        "ytest=[x[1] for x in test_data]"
      ],
      "metadata": {
        "id": "iW19zzIJ0SMD"
      },
      "execution_count": 26,
      "outputs": []
    },
    {
      "cell_type": "code",
      "source": [
        "xtest=np.array(xtest).reshape(-1,50,50,1)"
      ],
      "metadata": {
        "id": "aZwUrLyu1QQe"
      },
      "execution_count": 27,
      "outputs": []
    },
    {
      "cell_type": "code",
      "source": [
        "es=EarlyStopping(patience=5)"
      ],
      "metadata": {
        "id": "R22jsPVQ2jeS"
      },
      "execution_count": 28,
      "outputs": []
    },
    {
      "cell_type": "code",
      "source": [
        "model = Sequential()\n",
        "\n",
        "model.add(Conv2D(32, activation=\"relu\", kernel_size=(5,5)))\n",
        "model.add(MaxPool2D(5,5))\n",
        "\n",
        "model.add(Conv2D(64, activation=\"relu\", kernel_size=(3,3)))\n",
        "model.add(MaxPool2D(5,5))\n",
        "\n",
        "model.add(Flatten())\n",
        "\n",
        "model.add(Dense(32, activation=\"relu\"))\n",
        "\n",
        "model.add(Dense(20, activation=\"softmax\"))\n",
        "\n",
        "model.compile(loss=\"categorical_crossentropy\", metrics=[\"accuracy\"], optimizer=\"rmsprop\")"
      ],
      "metadata": {
        "id": "6lp04GMkxbO8"
      },
      "execution_count": 29,
      "outputs": []
    },
    {
      "cell_type": "code",
      "source": [
        "model.fit(xtrain, ytrain, validation_split=.1, callbacks=[es])"
      ],
      "metadata": {
        "colab": {
          "base_uri": "https://localhost:8080/"
        },
        "id": "cVLbzR562Yco",
        "outputId": "e41cb4f0-2a04-4071-f334-7b7ad44437cd"
      },
      "execution_count": 30,
      "outputs": [
        {
          "output_type": "stream",
          "name": "stdout",
          "text": [
            "507/507 [==============================] - 15s 8ms/step - loss: 0.4714 - accuracy: 0.8815 - val_loss: 0.0036 - val_accuracy: 0.9989\n"
          ]
        },
        {
          "output_type": "execute_result",
          "data": {
            "text/plain": [
              "<keras.callbacks.History at 0x7ff333641f90>"
            ]
          },
          "metadata": {},
          "execution_count": 30
        }
      ]
    },
    {
      "cell_type": "code",
      "source": [
        "model.summary()"
      ],
      "metadata": {
        "colab": {
          "base_uri": "https://localhost:8080/"
        },
        "id": "iObkCQHE2SOr",
        "outputId": "d490e7ca-76eb-4285-b9b2-5d705f119deb"
      },
      "execution_count": 31,
      "outputs": [
        {
          "output_type": "stream",
          "name": "stdout",
          "text": [
            "Model: \"sequential\"\n",
            "_________________________________________________________________\n",
            " Layer (type)                Output Shape              Param #   \n",
            "=================================================================\n",
            " conv2d (Conv2D)             (None, 46, 46, 32)        832       \n",
            "                                                                 \n",
            " max_pooling2d (MaxPooling2D  (None, 9, 9, 32)         0         \n",
            " )                                                               \n",
            "                                                                 \n",
            " conv2d_1 (Conv2D)           (None, 7, 7, 64)          18496     \n",
            "                                                                 \n",
            " max_pooling2d_1 (MaxPooling  (None, 1, 1, 64)         0         \n",
            " 2D)                                                             \n",
            "                                                                 \n",
            " flatten (Flatten)           (None, 64)                0         \n",
            "                                                                 \n",
            " dense (Dense)               (None, 32)                2080      \n",
            "                                                                 \n",
            " dense_1 (Dense)             (None, 20)                660       \n",
            "                                                                 \n",
            "=================================================================\n",
            "Total params: 22,068\n",
            "Trainable params: 22,068\n",
            "Non-trainable params: 0\n",
            "_________________________________________________________________\n"
          ]
        }
      ]
    },
    {
      "cell_type": "code",
      "source": [
        "prediction=np.argmax(model.predict(xtest), axis=-1)"
      ],
      "metadata": {
        "id": "Gej0zZ2C10hJ"
      },
      "execution_count": 37,
      "outputs": []
    },
    {
      "cell_type": "code",
      "source": [
        "print(classification_report(prediction, ytest))"
      ],
      "metadata": {
        "colab": {
          "base_uri": "https://localhost:8080/"
        },
        "id": "qQ3JbI3s12Me",
        "outputId": "2041076c-c9c9-4763-d078-8bc7b018f8fe"
      },
      "execution_count": 40,
      "outputs": [
        {
          "output_type": "stream",
          "name": "stdout",
          "text": [
            "              precision    recall  f1-score   support\n",
            "\n",
            "           0       1.00      0.97      0.98       310\n",
            "           1       1.00      1.00      1.00       300\n",
            "           2       1.00      1.00      1.00       301\n",
            "           3       1.00      1.00      1.00       300\n",
            "           4       0.94      0.99      0.96       283\n",
            "           5       1.00      1.00      1.00       300\n",
            "           6       0.99      1.00      1.00       298\n",
            "           7       1.00      0.97      0.99       308\n",
            "           8       1.00      0.97      0.99       308\n",
            "           9       0.97      1.00      0.99       292\n",
            "          10       1.00      1.00      1.00       300\n",
            "          11       1.00      1.00      1.00       301\n",
            "          12       1.00      1.00      1.00       300\n",
            "          13       1.00      1.00      1.00       300\n",
            "          14       1.00      1.00      1.00       300\n",
            "          15       1.00      1.00      1.00       300\n",
            "          16       1.00      1.00      1.00       299\n",
            "          17       1.00      1.00      1.00       301\n",
            "          18       1.00      1.00      1.00       299\n",
            "          19       1.00      1.00      1.00       300\n",
            "\n",
            "    accuracy                           0.99      6000\n",
            "   macro avg       0.99      0.99      0.99      6000\n",
            "weighted avg       1.00      0.99      0.99      6000\n",
            "\n"
          ]
        }
      ]
    },
    {
      "cell_type": "code",
      "source": [
        "print(confusion_matrix(prediction, ytest))"
      ],
      "metadata": {
        "id": "3vWm_Mba3qn-",
        "outputId": "17b9eaaf-dc4c-490c-dabd-806c68055809",
        "colab": {
          "base_uri": "https://localhost:8080/"
        }
      },
      "execution_count": 41,
      "outputs": [
        {
          "output_type": "stream",
          "name": "stdout",
          "text": [
            "[[300   0   0   0  10   0   0   0   0   0   0   0   0   0   0   0   0   0\n",
            "    0   0]\n",
            " [  0 300   0   0   0   0   0   0   0   0   0   0   0   0   0   0   0   0\n",
            "    0   0]\n",
            " [  0   0 300   0   1   0   0   0   0   0   0   0   0   0   0   0   0   0\n",
            "    0   0]\n",
            " [  0   0   0 300   0   0   0   0   0   0   0   0   0   0   0   0   0   0\n",
            "    0   0]\n",
            " [  0   0   0   0 281   0   2   0   0   0   0   0   0   0   0   0   0   0\n",
            "    0   0]\n",
            " [  0   0   0   0   0 300   0   0   0   0   0   0   0   0   0   0   0   0\n",
            "    0   0]\n",
            " [  0   0   0   0   0   0 298   0   0   0   0   0   0   0   0   0   0   0\n",
            "    0   0]\n",
            " [  0   0   0   0   0   0   0 300   0   8   0   0   0   0   0   0   0   0\n",
            "    0   0]\n",
            " [  0   0   0   0   8   0   0   0 300   0   0   0   0   0   0   0   0   0\n",
            "    0   0]\n",
            " [  0   0   0   0   0   0   0   0   0 292   0   0   0   0   0   0   0   0\n",
            "    0   0]\n",
            " [  0   0   0   0   0   0   0   0   0   0 300   0   0   0   0   0   0   0\n",
            "    0   0]\n",
            " [  0   0   0   0   0   0   0   0   0   0   0 300   0   0   0   0   0   0\n",
            "    1   0]\n",
            " [  0   0   0   0   0   0   0   0   0   0   0   0 300   0   0   0   0   0\n",
            "    0   0]\n",
            " [  0   0   0   0   0   0   0   0   0   0   0   0   0 300   0   0   0   0\n",
            "    0   0]\n",
            " [  0   0   0   0   0   0   0   0   0   0   0   0   0   0 300   0   0   0\n",
            "    0   0]\n",
            " [  0   0   0   0   0   0   0   0   0   0   0   0   0   0   0 300   0   0\n",
            "    0   0]\n",
            " [  0   0   0   0   0   0   0   0   0   0   0   0   0   0   0   0 299   0\n",
            "    0   0]\n",
            " [  0   0   0   0   0   0   0   0   0   0   0   0   0   0   0   0   1 300\n",
            "    0   0]\n",
            " [  0   0   0   0   0   0   0   0   0   0   0   0   0   0   0   0   0   0\n",
            "  299   0]\n",
            " [  0   0   0   0   0   0   0   0   0   0   0   0   0   0   0   0   0   0\n",
            "    0 300]]\n"
          ]
        }
      ]
    },
    {
      "cell_type": "code",
      "source": [
        ""
      ],
      "metadata": {
        "id": "qLLPAsBE3yHS"
      },
      "execution_count": null,
      "outputs": []
    }
  ]
}