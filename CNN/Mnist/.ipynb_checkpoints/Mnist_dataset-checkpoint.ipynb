{
 "cells": [
  {
   "cell_type": "code",
   "execution_count": 2,
   "id": "3f877d95",
   "metadata": {},
   "outputs": [],
   "source": [
    "import pandas as pd\n",
    "import numpy as np\n",
    "import matplotlib.pyplot as plt\n",
    "%matplotlib inline"
   ]
  },
  {
   "cell_type": "markdown",
   "id": "d61ab885",
   "metadata": {},
   "source": [
    "# Loading mnist dataset"
   ]
  },
  {
   "cell_type": "code",
   "execution_count": 4,
   "id": "f694cc69",
   "metadata": {},
   "outputs": [],
   "source": [
    "from tensorflow.keras.datasets import mnist"
   ]
  },
  {
   "cell_type": "code",
   "execution_count": 7,
   "id": "3cdeb762",
   "metadata": {},
   "outputs": [],
   "source": [
    "(xtrain,ytrain),(xtest,ytest)=mnist.load_data()"
   ]
  },
  {
   "cell_type": "code",
   "execution_count": 8,
   "id": "ec8d925f",
   "metadata": {},
   "outputs": [
    {
     "name": "stdout",
     "output_type": "stream",
     "text": [
      "Shapes: \n",
      "==============================\n",
      "xtrain.shape=(60000, 28, 28)\n",
      "xtest.shape=(10000, 28, 28)\n",
      "ytrain.shape=(60000,)\n",
      "ytest.shape=(10000,)\n"
     ]
    }
   ],
   "source": [
    "print(\"Shapes: \")\n",
    "print(\"==============================\")\n",
    "print(f\"{xtrain.shape=}\")\n",
    "print(f\"{xtest.shape=}\")\n",
    "print(f\"{ytrain.shape=}\")\n",
    "print(f\"{ytest.shape=}\")"
   ]
  },
  {
   "cell_type": "markdown",
   "id": "fbaf271d",
   "metadata": {},
   "source": [
    "# Preprocessing"
   ]
  },
  {
   "cell_type": "code",
   "execution_count": 22,
   "id": "f36ad9cd",
   "metadata": {},
   "outputs": [
    {
     "data": {
      "text/plain": [
       "<matplotlib.image.AxesImage at 0x2307f1e4220>"
      ]
     },
     "execution_count": 22,
     "metadata": {},
     "output_type": "execute_result"
    },
    {
     "data": {
      "image/png": "[encoded data removed]",
      "text/plain": [
       "<Figure size 432x288 with 1 Axes>"
      ]
     },
     "metadata": {
      "needs_background": "light"
     },
     "output_type": "display_data"
    }
   ],
   "source": [
    "plt.imshow(xtrain[1],cmap=\"gist_gray\")"
   ]
  },
  {
   "cell_type": "code",
   "execution_count": 21,
   "id": "f45af276",
   "metadata": {},
   "outputs": [
    {
     "data": {
      "text/plain": [
       "array([5, 0, 4, ..., 5, 6, 8], dtype=uint8)"
      ]
     },
     "execution_count": 21,
     "metadata": {},
     "output_type": "execute_result"
    }
   ],
   "source": [
    "ytrain"
   ]
  },
  {
   "cell_type": "code",
   "execution_count": 24,
   "id": "fe12309b",
   "metadata": {},
   "outputs": [],
   "source": [
    "from tensorflow.keras.utils import to_categorical"
   ]
  },
  {
   "cell_type": "code",
   "execution_count": 32,
   "id": "02448721",
   "metadata": {},
   "outputs": [],
   "source": [
    "y_cat_train=to_categorical(ytrain,num_classes=10)"
   ]
  },
  {
   "cell_type": "code",
   "execution_count": 33,
   "id": "d61ad51a",
   "metadata": {},
   "outputs": [
    {
     "data": {
      "text/plain": [
       "array([[0., 0., 0., ..., 0., 0., 0.],\n",
       "       [1., 0., 0., ..., 0., 0., 0.],\n",
       "       [0., 0., 0., ..., 0., 0., 0.],\n",
       "       ...,\n",
       "       [0., 0., 0., ..., 0., 0., 0.],\n",
       "       [0., 0., 0., ..., 0., 0., 0.],\n",
       "       [0., 0., 0., ..., 0., 1., 0.]], dtype=float32)"
      ]
     },
     "execution_count": 33,
     "metadata": {},
     "output_type": "execute_result"
    }
   ],
   "source": [
    "y_cat_train"
   ]
  },
  {
   "cell_type": "code",
   "execution_count": 34,
   "id": "f7fc9685",
   "metadata": {},
   "outputs": [],
   "source": [
    "y_cat_test=to_categorical(ytest,num_classes=10)"
   ]
  },
  {
   "cell_type": "code",
   "execution_count": 35,
   "id": "659a77f3",
   "metadata": {},
   "outputs": [
    {
     "data": {
      "text/plain": [
       "255"
      ]
     },
     "execution_count": 35,
     "metadata": {},
     "output_type": "execute_result"
    }
   ],
   "source": [
    "xtrain[0].max()"
   ]
  },
  {
   "cell_type": "code",
   "execution_count": 36,
   "id": "52e26b56",
   "metadata": {},
   "outputs": [
    {
     "data": {
      "text/plain": [
       "0"
      ]
     },
     "execution_count": 36,
     "metadata": {},
     "output_type": "execute_result"
    }
   ],
   "source": [
    "xtrain[0].min()"
   ]
  },
  {
   "cell_type": "code",
   "execution_count": 40,
   "id": "036d4884",
   "metadata": {},
   "outputs": [],
   "source": [
    "xtrain=xtrain/255"
   ]
  },
  {
   "cell_type": "code",
   "execution_count": 41,
   "id": "382f4d00",
   "metadata": {},
   "outputs": [],
   "source": [
    "xtest=xtest/255"
   ]
  },
  {
   "cell_type": "code",
   "execution_count": 42,
   "id": "8e301da8",
   "metadata": {},
   "outputs": [
    {
     "name": "stdout",
     "output_type": "stream",
     "text": [
      "1.0\n",
      "1.0\n"
     ]
    }
   ],
   "source": [
    "print(xtrain[0].max())\n",
    "print(xtest[0].max())"
   ]
  },
  {
   "cell_type": "code",
   "execution_count": 43,
   "id": "4bf49d78",
   "metadata": {},
   "outputs": [
    {
     "data": {
      "text/plain": [
       "<matplotlib.image.AxesImage at 0x23000a77820>"
      ]
     },
     "execution_count": 43,
     "metadata": {},
     "output_type": "execute_result"
    },
    {
     "data": {
      "image/png": "[encoded data removed]",
      "text/plain": [
       "<Figure size 432x288 with 1 Axes>"
      ]
     },
     "metadata": {
      "needs_background": "light"
     },
     "output_type": "display_data"
    }
   ],
   "source": [
    "plt.imshow(xtrain[1],cmap=\"gist_gray\")"
   ]
  },
  {
   "cell_type": "code",
   "execution_count": 44,
   "id": "9ed79584",
   "metadata": {},
   "outputs": [],
   "source": [
    "xtrain=xtrain.reshape(60000, 28, 28, 1)\n",
    "xtest=xtest.reshape(10000, 28, 28, 1)"
   ]
  },
  {
   "cell_type": "markdown",
   "id": "e520dc15",
   "metadata": {},
   "source": [
    "# Model"
   ]
  },
  {
   "cell_type": "code",
   "execution_count": 45,
   "id": "a49055cf",
   "metadata": {},
   "outputs": [],
   "source": [
    "from tensorflow.keras.models import Sequential\n",
    "from tensorflow.keras.layers import Dense,Conv2D,MaxPool2D,Flatten"
   ]
  },
  {
   "cell_type": "code",
   "execution_count": 46,
   "id": "fecc606b",
   "metadata": {},
   "outputs": [],
   "source": [
    "model=Sequential()"
   ]
  },
  {
   "cell_type": "code",
   "execution_count": 48,
   "id": "6102b0c4",
   "metadata": {},
   "outputs": [],
   "source": [
    "model.add(Conv2D(filters=32,kernel_size=(4,4),input_shape=(28,28,1),activation=\"relu\"))\n",
    "model.add(MaxPool2D(pool_size=(2,2)))\n",
    "model.add(Flatten())\n",
    "model.add(Dense(128,\"relu\"))\n",
    "model.add(Dense(10,activation=\"softmax\"))\n",
    "model.compile(loss=\"categorical_crossentropy\",optimizer=\"adam\",metrics=[\"accuracy\"])"
   ]
  },
  {
   "cell_type": "code",
   "execution_count": 49,
   "id": "11dd2386",
   "metadata": {},
   "outputs": [],
   "source": [
    "from tensorflow.keras.callbacks import EarlyStopping"
   ]
  },
  {
   "cell_type": "code",
   "execution_count": 50,
   "id": "e228b0d1",
   "metadata": {},
   "outputs": [],
   "source": [
    "es=EarlyStopping(patience=1)"
   ]
  },
  {
   "cell_type": "code",
   "execution_count": 51,
   "id": "9c134b5f",
   "metadata": {},
   "outputs": [
    {
     "name": "stdout",
     "output_type": "stream",
     "text": [
      "Epoch 1/20\n",
      "1875/1875 [==============================] - 41s 22ms/step - loss: 0.1348 - accuracy: 0.9595 - val_loss: 0.0617 - val_accuracy: 0.9795\n",
      "Epoch 2/20\n",
      "1875/1875 [==============================] - 43s 23ms/step - loss: 0.0469 - accuracy: 0.9854 - val_loss: 0.0531 - val_accuracy: 0.9818\n",
      "Epoch 3/20\n",
      "1875/1875 [==============================] - 41s 22ms/step - loss: 0.0298 - accuracy: 0.9908 - val_loss: 0.0391 - val_accuracy: 0.9884\n",
      "Epoch 4/20\n",
      "1875/1875 [==============================] - 40s 21ms/step - loss: 0.0200 - accuracy: 0.9935 - val_loss: 0.0366 - val_accuracy: 0.9882\n",
      "Epoch 5/20\n",
      "1875/1875 [==============================] - 40s 21ms/step - loss: 0.0152 - accuracy: 0.9949 - val_loss: 0.0407 - val_accuracy: 0.9879\n"
     ]
    },
    {
     "data": {
      "text/plain": [
       "<tensorflow.python.keras.callbacks.History at 0x23000553070>"
      ]
     },
     "execution_count": 51,
     "metadata": {},
     "output_type": "execute_result"
    }
   ],
   "source": [
    "model.fit(xtrain,y_cat_train,epochs=20,\n",
    "          validation_data=(xtest,y_cat_test),callbacks=[es])"
   ]
  },
  {
   "cell_type": "markdown",
   "id": "ce5e73db",
   "metadata": {},
   "source": [
    "# Evaluation"
   ]
  },
  {
   "cell_type": "code",
   "execution_count": 54,
   "id": "3e6611ec",
   "metadata": {},
   "outputs": [],
   "source": [
    "results=pd.DataFrame(model.history.history)"
   ]
  },
  {
   "cell_type": "code",
   "execution_count": 57,
   "id": "a6981e7a",
   "metadata": {},
   "outputs": [
    {
     "data": {
      "text/html": [
       "<div>\n",
       "<style scoped>\n",
       "    .dataframe tbody tr th:only-of-type {\n",
       "        vertical-align: middle;\n",
       "    }\n",
       "\n",
       "    .dataframe tbody tr th {\n",
       "        vertical-align: top;\n",
       "    }\n",
       "\n",
       "    .dataframe thead th {\n",
       "        text-align: right;\n",
       "    }\n",
       "</style>\n",
       "<table border=\"1\" class=\"dataframe\">\n",
       "  <thead>\n",
       "    <tr style=\"text-align: right;\">\n",
       "      <th></th>\n",
       "      <th>loss</th>\n",
       "      <th>accuracy</th>\n",
       "      <th>val_loss</th>\n",
       "      <th>val_accuracy</th>\n",
       "    </tr>\n",
       "  </thead>\n",
       "  <tbody>\n",
       "    <tr>\n",
       "      <th>0</th>\n",
       "      <td>0.134807</td>\n",
       "      <td>0.959450</td>\n",
       "      <td>0.061746</td>\n",
       "      <td>0.9795</td>\n",
       "    </tr>\n",
       "    <tr>\n",
       "      <th>1</th>\n",
       "      <td>0.046922</td>\n",
       "      <td>0.985433</td>\n",
       "      <td>0.053081</td>\n",
       "      <td>0.9818</td>\n",
       "    </tr>\n",
       "    <tr>\n",
       "      <th>2</th>\n",
       "      <td>0.029849</td>\n",
       "      <td>0.990800</td>\n",
       "      <td>0.039140</td>\n",
       "      <td>0.9884</td>\n",
       "    </tr>\n",
       "    <tr>\n",
       "      <th>3</th>\n",
       "      <td>0.020043</td>\n",
       "      <td>0.993533</td>\n",
       "      <td>0.036560</td>\n",
       "      <td>0.9882</td>\n",
       "    </tr>\n",
       "    <tr>\n",
       "      <th>4</th>\n",
       "      <td>0.015230</td>\n",
       "      <td>0.994883</td>\n",
       "      <td>0.040721</td>\n",
       "      <td>0.9879</td>\n",
       "    </tr>\n",
       "  </tbody>\n",
       "</table>\n",
       "</div>"
      ],
      "text/plain": [
       "       loss  accuracy  val_loss  val_accuracy\n",
       "0  0.134807  0.959450  0.061746        0.9795\n",
       "1  0.046922  0.985433  0.053081        0.9818\n",
       "2  0.029849  0.990800  0.039140        0.9884\n",
       "3  0.020043  0.993533  0.036560        0.9882\n",
       "4  0.015230  0.994883  0.040721        0.9879"
      ]
     },
     "execution_count": 57,
     "metadata": {},
     "output_type": "execute_result"
    }
   ],
   "source": [
    "results"
   ]
  },
  {
   "cell_type": "code",
   "execution_count": 66,
   "id": "473dc963",
   "metadata": {},
   "outputs": [
    {
     "data": {
      "text/plain": [
       "<AxesSubplot:>"
      ]
     },
     "execution_count": 66,
     "metadata": {},
     "output_type": "execute_result"
    },
    {
     "data": {
      "image/png": "[encoded data removed]",
      "text/plain": [
       "<Figure size 432x288 with 1 Axes>"
      ]
     },
     "metadata": {
      "needs_background": "light"
     },
     "output_type": "display_data"
    }
   ],
   "source": [
    "results[[\"loss\",\"val_loss\"]].plot()"
   ]
  },
  {
   "cell_type": "code",
   "execution_count": 64,
   "id": "81820cd3",
   "metadata": {},
   "outputs": [
    {
     "data": {
      "text/plain": [
       "<AxesSubplot:>"
      ]
     },
     "execution_count": 64,
     "metadata": {},
     "output_type": "execute_result"
    },
    {
     "data": {
      "image/png": "[encoded data removed]",
      "text/plain": [
       "<Figure size 432x288 with 1 Axes>"
      ]
     },
     "metadata": {
      "needs_background": "light"
     },
     "output_type": "display_data"
    }
   ],
   "source": [
    "results[[\"accuracy\",\"val_accuracy\"]].plot()"
   ]
  },
  {
   "cell_type": "code",
   "execution_count": 67,
   "id": "2d0c8450",
   "metadata": {},
   "outputs": [
    {
     "name": "stdout",
     "output_type": "stream",
     "text": [
      "313/313 [==============================] - 3s 8ms/step - loss: 0.0407 - accuracy: 0.9879\n"
     ]
    },
    {
     "data": {
      "text/plain": [
       "[0.04072132706642151, 0.9879000186920166]"
      ]
     },
     "execution_count": 67,
     "metadata": {},
     "output_type": "execute_result"
    }
   ],
   "source": [
    "model.evaluate(xtest,y_cat_test)"
   ]
  },
  {
   "cell_type": "code",
   "execution_count": 71,
   "id": "ee165a13",
   "metadata": {},
   "outputs": [
    {
     "name": "stderr",
     "output_type": "stream",
     "text": [
      "C:\\Users\\mahyar_fardin\\anaconda3\\lib\\site-packages\\tensorflow\\python\\keras\\engine\\sequential.py:455: UserWarning: `model.predict_classes()` is deprecated and will be removed after 2021-01-01. Please use instead:* `np.argmax(model.predict(x), axis=-1)`,   if your model does multi-class classification   (e.g. if it uses a `softmax` last-layer activation).* `(model.predict(x) > 0.5).astype(\"int32\")`,   if your model does binary classification   (e.g. if it uses a `sigmoid` last-layer activation).\n",
      "  warnings.warn('`model.predict_classes()` is deprecated and '\n"
     ]
    }
   ],
   "source": [
    "prediction=model.predict_classes(xtest)"
   ]
  },
  {
   "cell_type": "code",
   "execution_count": 68,
   "id": "0cc5d2f2",
   "metadata": {},
   "outputs": [],
   "source": [
    "from sklearn import metrics"
   ]
  },
  {
   "cell_type": "code",
   "execution_count": 72,
   "id": "595533be",
   "metadata": {},
   "outputs": [
    {
     "data": {
      "text/plain": [
       "array([[ 973,    0,    1,    0,    0,    1,    7,    1,    3,    2],\n",
       "       [   1, 1127,    1,    0,    0,    0,    2,    1,    0,    2],\n",
       "       [   0,    5, 1026,    0,    1,    0,    0,    8,    1,    0],\n",
       "       [   1,    1,    0, 1007,    0,    9,    1,    2,    7,    8],\n",
       "       [   0,    0,    0,    0,  972,    0,    1,    1,    0,    2],\n",
       "       [   2,    0,    0,    1,    0,  881,    1,    0,    1,    3],\n",
       "       [   1,    2,    0,    0,    3,    1,  945,    0,    0,    0],\n",
       "       [   0,    0,    3,    1,    0,    0,    0, 1008,    1,    4],\n",
       "       [   2,    0,    1,    1,    1,    0,    1,    1,  954,    2],\n",
       "       [   0,    0,    0,    0,    5,    0,    0,    6,    7,  986]],\n",
       "      dtype=int64)"
      ]
     },
     "execution_count": 72,
     "metadata": {},
     "output_type": "execute_result"
    }
   ],
   "source": [
    "metrics.confusion_matrix(prediction,ytest)"
   ]
  },
  {
   "cell_type": "code",
   "execution_count": 74,
   "id": "e57dc70c",
   "metadata": {},
   "outputs": [
    {
     "name": "stdout",
     "output_type": "stream",
     "text": [
      "              precision    recall  f1-score   support\n",
      "\n",
      "           0       0.99      0.98      0.99       988\n",
      "           1       0.99      0.99      0.99      1134\n",
      "           2       0.99      0.99      0.99      1041\n",
      "           3       1.00      0.97      0.98      1036\n",
      "           4       0.99      1.00      0.99       976\n",
      "           5       0.99      0.99      0.99       889\n",
      "           6       0.99      0.99      0.99       952\n",
      "           7       0.98      0.99      0.99      1017\n",
      "           8       0.98      0.99      0.99       963\n",
      "           9       0.98      0.98      0.98      1004\n",
      "\n",
      "    accuracy                           0.99     10000\n",
      "   macro avg       0.99      0.99      0.99     10000\n",
      "weighted avg       0.99      0.99      0.99     10000\n",
      "\n"
     ]
    }
   ],
   "source": [
    "print(metrics.classification_report(prediction,ytest))"
   ]
  }
 ],
 "metadata": {
  "kernelspec": {
   "display_name": "Python 3 (ipykernel)",
   "language": "python",
   "name": "python3"
  },
  "language_info": {
   "codemirror_mode": {
    "name": "ipython",
    "version": 3
   },
   "file_extension": ".py",
   "mimetype": "text/x-python",
   "name": "python",
   "nbconvert_exporter": "python",
   "pygments_lexer": "ipython3",
   "version": "3.9.7"
  }
 },
 "nbformat": 4,
 "nbformat_minor": 5
}
