{
  "cells": [
    {
      "cell_type": "code",
      "execution_count": 1,
      "id": "3f877d95",
      "metadata": {
        "id": "3f877d95"
      },
      "outputs": [],
      "source": [
        "import pandas as pd\n",
        "import numpy as np\n",
        "import matplotlib.pyplot as plt\n",
        "from tensorflow.keras.datasets import mnist\n",
        "from tensorflow.keras.utils import to_categorical\n",
        "from tensorflow.keras.models import Sequential\n",
        "from tensorflow.keras.layers import Dense,Conv2D,MaxPool2D,Flatten\n",
        "from sklearn import metrics\n",
        "from tensorflow.keras.callbacks import EarlyStopping"
      ]
    },
    {
      "cell_type": "markdown",
      "id": "d61ab885",
      "metadata": {
        "id": "d61ab885"
      },
      "source": [
        "# Loading mnist dataset"
      ]
    },
    {
      "cell_type": "code",
      "execution_count": 2,
      "id": "3cdeb762",
      "metadata": {
        "id": "3cdeb762",
        "outputId": "1711501e-cdf5-4d1c-a50d-cdcf8811a75e",
        "colab": {
          "base_uri": "https://localhost:8080/"
        }
      },
      "outputs": [
        {
          "output_type": "stream",
          "name": "stdout",
          "text": [
            "Downloading data from https://storage.googleapis.com/tensorflow/tf-keras-datasets/mnist.npz\n",
            "11493376/11490434 [==============================] - 0s 0us/step\n",
            "11501568/11490434 [==============================] - 0s 0us/step\n"
          ]
        }
      ],
      "source": [
        "(xtrain,ytrain),(xtest,ytest)=mnist.load_data()"
      ]
    },
    {
      "cell_type": "code",
      "execution_count": 3,
      "id": "ec8d925f",
      "metadata": {
        "id": "ec8d925f",
        "outputId": "102f9fee-f5ea-4063-e6d9-fffe6222b039",
        "colab": {
          "base_uri": "https://localhost:8080/"
        }
      },
      "outputs": [
        {
          "output_type": "stream",
          "name": "stdout",
          "text": [
            "Shapes: \n",
            "==============================\n",
            "(60000, 28, 28)\n",
            "(10000, 28, 28)\n",
            "(60000,)\n",
            "(10000,)\n"
          ]
        }
      ],
      "source": [
        "print(\"Shapes: \")\n",
        "print(\"==============================\")\n",
        "print(f\"{xtrain.shape}\")\n",
        "print(f\"{xtest.shape}\")\n",
        "print(f\"{ytrain.shape}\")\n",
        "print(f\"{ytest.shape}\")"
      ]
    },
    {
      "cell_type": "markdown",
      "id": "fbaf271d",
      "metadata": {
        "id": "fbaf271d"
      },
      "source": [
        "# Preprocessing"
      ]
    },
    {
      "cell_type": "code",
      "execution_count": 4,
      "id": "f36ad9cd",
      "metadata": {
        "id": "f36ad9cd",
        "outputId": "778beecb-549b-4619-d5cd-de5e55426248",
        "colab": {
          "base_uri": "https://localhost:8080/",
          "height": 282
        }
      },
      "outputs": [
        {
          "output_type": "execute_result",
          "data": {
            "text/plain": [
              "<matplotlib.image.AxesImage at 0x7fb3881d6d50>"
            ]
          },
          "metadata": {},
          "execution_count": 4
        },
        {
          "output_type": "display_data",
          "data": {
            "image/png": "[encoded data removed]",
            "text/plain": [
              "<Figure size 432x288 with 1 Axes>"
            ]
          },
          "metadata": {
            "needs_background": "light"
          }
        }
      ],
      "source": [
        "plt.imshow(xtrain[1],cmap=\"gist_gray\")"
      ]
    },
    {
      "cell_type": "code",
      "execution_count": 5,
      "id": "f45af276",
      "metadata": {
        "id": "f45af276",
        "outputId": "23899c80-ff46-4fc2-c6f0-867b994a2cb1",
        "colab": {
          "base_uri": "https://localhost:8080/"
        }
      },
      "outputs": [
        {
          "output_type": "execute_result",
          "data": {
            "text/plain": [
              "array([5, 0, 4, ..., 5, 6, 8], dtype=uint8)"
            ]
          },
          "metadata": {},
          "execution_count": 5
        }
      ],
      "source": [
        "ytrain"
      ]
    },
    {
      "cell_type": "code",
      "execution_count": 6,
      "id": "02448721",
      "metadata": {
        "id": "02448721"
      },
      "outputs": [],
      "source": [
        "y_cat_train=to_categorical(ytrain,num_classes=10)"
      ]
    },
    {
      "cell_type": "code",
      "execution_count": 7,
      "id": "d61ad51a",
      "metadata": {
        "id": "d61ad51a",
        "outputId": "4018e81d-6643-4461-8429-6f47016347fb",
        "colab": {
          "base_uri": "https://localhost:8080/"
        }
      },
      "outputs": [
        {
          "output_type": "execute_result",
          "data": {
            "text/plain": [
              "array([[0., 0., 0., ..., 0., 0., 0.],\n",
              "       [1., 0., 0., ..., 0., 0., 0.],\n",
              "       [0., 0., 0., ..., 0., 0., 0.],\n",
              "       ...,\n",
              "       [0., 0., 0., ..., 0., 0., 0.],\n",
              "       [0., 0., 0., ..., 0., 0., 0.],\n",
              "       [0., 0., 0., ..., 0., 1., 0.]], dtype=float32)"
            ]
          },
          "metadata": {},
          "execution_count": 7
        }
      ],
      "source": [
        "y_cat_train"
      ]
    },
    {
      "cell_type": "code",
      "execution_count": 8,
      "id": "f7fc9685",
      "metadata": {
        "id": "f7fc9685"
      },
      "outputs": [],
      "source": [
        "y_cat_test=to_categorical(ytest,num_classes=10)"
      ]
    },
    {
      "cell_type": "code",
      "execution_count": 9,
      "id": "659a77f3",
      "metadata": {
        "id": "659a77f3",
        "outputId": "40d8169e-9f9b-4900-f5a9-8ee576ccf0b0",
        "colab": {
          "base_uri": "https://localhost:8080/"
        }
      },
      "outputs": [
        {
          "output_type": "execute_result",
          "data": {
            "text/plain": [
              "255"
            ]
          },
          "metadata": {},
          "execution_count": 9
        }
      ],
      "source": [
        "xtrain[0].max()"
      ]
    },
    {
      "cell_type": "code",
      "execution_count": 10,
      "id": "52e26b56",
      "metadata": {
        "id": "52e26b56",
        "outputId": "80dd1e81-03f9-4553-b459-0dd3312aa9f8",
        "colab": {
          "base_uri": "https://localhost:8080/"
        }
      },
      "outputs": [
        {
          "output_type": "execute_result",
          "data": {
            "text/plain": [
              "0"
            ]
          },
          "metadata": {},
          "execution_count": 10
        }
      ],
      "source": [
        "xtrain[0].min()"
      ]
    },
    {
      "cell_type": "code",
      "execution_count": 11,
      "id": "036d4884",
      "metadata": {
        "id": "036d4884"
      },
      "outputs": [],
      "source": [
        "xtrain=xtrain/255"
      ]
    },
    {
      "cell_type": "code",
      "execution_count": 12,
      "id": "382f4d00",
      "metadata": {
        "id": "382f4d00"
      },
      "outputs": [],
      "source": [
        "xtest=xtest/255"
      ]
    },
    {
      "cell_type": "code",
      "execution_count": 13,
      "id": "8e301da8",
      "metadata": {
        "id": "8e301da8",
        "outputId": "f00928c0-39c7-41cf-98ba-a8f149297861",
        "colab": {
          "base_uri": "https://localhost:8080/"
        }
      },
      "outputs": [
        {
          "output_type": "stream",
          "name": "stdout",
          "text": [
            "1.0\n",
            "1.0\n"
          ]
        }
      ],
      "source": [
        "print(xtrain[0].max())\n",
        "print(xtest[0].max())"
      ]
    },
    {
      "cell_type": "code",
      "execution_count": 14,
      "id": "4bf49d78",
      "metadata": {
        "id": "4bf49d78",
        "outputId": "8c0b67e5-928d-44e8-c413-3a0067e30cad",
        "colab": {
          "base_uri": "https://localhost:8080/",
          "height": 282
        }
      },
      "outputs": [
        {
          "output_type": "execute_result",
          "data": {
            "text/plain": [
              "<matplotlib.image.AxesImage at 0x7fb387ca76d0>"
            ]
          },
          "metadata": {},
          "execution_count": 14
        },
        {
          "output_type": "display_data",
          "data": {
            "image/png": "[encoded data removed]",
            "text/plain": [
              "<Figure size 432x288 with 1 Axes>"
            ]
          },
          "metadata": {
            "needs_background": "light"
          }
        }
      ],
      "source": [
        "plt.imshow(xtrain[1],cmap=\"gist_gray\")"
      ]
    },
    {
      "cell_type": "code",
      "execution_count": 15,
      "id": "9ed79584",
      "metadata": {
        "id": "9ed79584"
      },
      "outputs": [],
      "source": [
        "xtrain=xtrain.reshape(-1, 28, 28, 1)\n",
        "xtest=xtest.reshape(-1, 28, 28, 1)"
      ]
    },
    {
      "cell_type": "markdown",
      "id": "e520dc15",
      "metadata": {
        "id": "e520dc15"
      },
      "source": [
        "# Model"
      ]
    },
    {
      "cell_type": "code",
      "source": [
        "es=EarlyStopping(patience=2)"
      ],
      "metadata": {
        "id": "RaHRiPGsUN0C"
      },
      "id": "RaHRiPGsUN0C",
      "execution_count": 16,
      "outputs": []
    },
    {
      "cell_type": "code",
      "execution_count": 17,
      "id": "6102b0c4",
      "metadata": {
        "id": "6102b0c4",
        "outputId": "7745b9a2-1dda-4ed1-c4f7-354945527671",
        "colab": {
          "base_uri": "https://localhost:8080/"
        }
      },
      "outputs": [
        {
          "output_type": "stream",
          "name": "stdout",
          "text": [
            "Epoch 1/20\n",
            "1875/1875 [==============================] - 24s 6ms/step - loss: 0.1710 - accuracy: 0.9478 - val_loss: 0.0658 - val_accuracy: 0.9788\n",
            "Epoch 2/20\n",
            "1875/1875 [==============================] - 9s 5ms/step - loss: 0.0537 - accuracy: 0.9836 - val_loss: 0.0401 - val_accuracy: 0.9868\n",
            "Epoch 3/20\n",
            "1875/1875 [==============================] - 10s 5ms/step - loss: 0.0389 - accuracy: 0.9879 - val_loss: 0.0306 - val_accuracy: 0.9900\n",
            "Epoch 4/20\n",
            "1875/1875 [==============================] - 10s 5ms/step - loss: 0.0300 - accuracy: 0.9905 - val_loss: 0.0369 - val_accuracy: 0.9885\n",
            "Epoch 5/20\n",
            "1875/1875 [==============================] - 10s 5ms/step - loss: 0.0242 - accuracy: 0.9919 - val_loss: 0.0305 - val_accuracy: 0.9914\n",
            "Epoch 6/20\n",
            "1875/1875 [==============================] - 10s 5ms/step - loss: 0.0196 - accuracy: 0.9939 - val_loss: 0.0395 - val_accuracy: 0.9871\n",
            "Epoch 7/20\n",
            "1875/1875 [==============================] - 10s 5ms/step - loss: 0.0161 - accuracy: 0.9950 - val_loss: 0.0387 - val_accuracy: 0.9892\n"
          ]
        },
        {
          "output_type": "execute_result",
          "data": {
            "text/plain": [
              "<keras.callbacks.History at 0x7fb380223b90>"
            ]
          },
          "metadata": {},
          "execution_count": 17
        }
      ],
      "source": [
        "model=Sequential()\n",
        "\n",
        "model.add(Conv2D(filters=16,kernel_size=(4,4),input_shape=(28,28,1),activation=\"relu\"))\n",
        "model.add(MaxPool2D(pool_size=(2,2)))\n",
        "\n",
        "model.add(Conv2D(filters=32,kernel_size=(4,4),activation=\"relu\"))\n",
        "model.add(MaxPool2D(pool_size=(2,2)))\n",
        "\n",
        "model.add(Flatten())\n",
        "\n",
        "model.add(Dense(64,\"relu\"))\n",
        "model.add(Dense(10,activation=\"softmax\"))\n",
        "\n",
        "model.compile(loss=\"categorical_crossentropy\",optimizer=\"adam\",metrics=[\"accuracy\"])\n",
        "\n",
        "model.fit(xtrain,y_cat_train,epochs=20,validation_data=(xtest,y_cat_test),callbacks=[es])"
      ]
    },
    {
      "cell_type": "markdown",
      "id": "ce5e73db",
      "metadata": {
        "id": "ce5e73db"
      },
      "source": [
        "# Evaluation"
      ]
    },
    {
      "cell_type": "code",
      "execution_count": 18,
      "id": "3e6611ec",
      "metadata": {
        "id": "3e6611ec"
      },
      "outputs": [],
      "source": [
        "results=pd.DataFrame(model.history.history)"
      ]
    },
    {
      "cell_type": "code",
      "execution_count": 19,
      "id": "473dc963",
      "metadata": {
        "id": "473dc963",
        "outputId": "19546b09-c916-4d81-8ce5-2ce5619b1d9f",
        "colab": {
          "base_uri": "https://localhost:8080/",
          "height": 282
        }
      },
      "outputs": [
        {
          "output_type": "execute_result",
          "data": {
            "text/plain": [
              "<matplotlib.axes._subplots.AxesSubplot at 0x7fb2978e2950>"
            ]
          },
          "metadata": {},
          "execution_count": 19
        },
        {
          "output_type": "display_data",
          "data": {
            "image/png": "[encoded data removed]",
            "text/plain": [
              "<Figure size 432x288 with 1 Axes>"
            ]
          },
          "metadata": {
            "needs_background": "light"
          }
        }
      ],
      "source": [
        "results[[\"loss\",\"val_loss\"]].plot()"
      ]
    },
    {
      "cell_type": "code",
      "execution_count": 20,
      "id": "81820cd3",
      "metadata": {
        "id": "81820cd3",
        "outputId": "03420041-a017-4e74-d863-037f632aa7a0",
        "colab": {
          "base_uri": "https://localhost:8080/",
          "height": 282
        }
      },
      "outputs": [
        {
          "output_type": "execute_result",
          "data": {
            "text/plain": [
              "<matplotlib.axes._subplots.AxesSubplot at 0x7fb30e623e90>"
            ]
          },
          "metadata": {},
          "execution_count": 20
        },
        {
          "output_type": "display_data",
          "data": {
            "image/png": "[encoded data removed]",
            "text/plain": [
              "<Figure size 432x288 with 1 Axes>"
            ]
          },
          "metadata": {
            "needs_background": "light"
          }
        }
      ],
      "source": [
        "results[[\"accuracy\",\"val_accuracy\"]].plot()"
      ]
    },
    {
      "cell_type": "code",
      "execution_count": 21,
      "id": "ee165a13",
      "metadata": {
        "id": "ee165a13"
      },
      "outputs": [],
      "source": [
        "prediction=np.argmax(model.predict(xtest), axis=-1)"
      ]
    },
    {
      "cell_type": "code",
      "execution_count": 22,
      "id": "595533be",
      "metadata": {
        "id": "595533be",
        "outputId": "89833bc3-e60c-41ed-abb0-2da162c899c2",
        "colab": {
          "base_uri": "https://localhost:8080/"
        }
      },
      "outputs": [
        {
          "output_type": "execute_result",
          "data": {
            "text/plain": [
              "array([[ 975,    0,    0,    0,    0,    2,    3,    0,    2,    0],\n",
              "       [   0, 1132,    1,    1,    0,    0,    1,    4,    0,    0],\n",
              "       [   0,    0, 1022,    1,    0,    0,    0,    5,    1,    0],\n",
              "       [   0,    1,    0,  999,    0,    5,    0,    1,    0,    0],\n",
              "       [   1,    0,    1,    0,  976,    0,    3,    1,    0,    9],\n",
              "       [   0,    0,    0,    2,    0,  868,    0,    0,    0,    1],\n",
              "       [   2,    0,    0,    0,    2,    9,  948,    0,    0,    0],\n",
              "       [   1,    0,    2,    0,    0,    1,    0, 1008,    0,    2],\n",
              "       [   1,    2,    6,    7,    0,    4,    3,    2,  969,    2],\n",
              "       [   0,    0,    0,    0,    4,    3,    0,    7,    2,  995]])"
            ]
          },
          "metadata": {},
          "execution_count": 22
        }
      ],
      "source": [
        "metrics.confusion_matrix(prediction,ytest)"
      ]
    },
    {
      "cell_type": "code",
      "execution_count": 23,
      "id": "e57dc70c",
      "metadata": {
        "id": "e57dc70c",
        "outputId": "26f972ee-ae00-4910-abc1-b5273fc8c5b2",
        "colab": {
          "base_uri": "https://localhost:8080/"
        }
      },
      "outputs": [
        {
          "output_type": "stream",
          "name": "stdout",
          "text": [
            "              precision    recall  f1-score   support\n",
            "\n",
            "           0       0.99      0.99      0.99       982\n",
            "           1       1.00      0.99      1.00      1139\n",
            "           2       0.99      0.99      0.99      1029\n",
            "           3       0.99      0.99      0.99      1006\n",
            "           4       0.99      0.98      0.99       991\n",
            "           5       0.97      1.00      0.98       871\n",
            "           6       0.99      0.99      0.99       961\n",
            "           7       0.98      0.99      0.99      1014\n",
            "           8       0.99      0.97      0.98       996\n",
            "           9       0.99      0.98      0.99      1011\n",
            "\n",
            "    accuracy                           0.99     10000\n",
            "   macro avg       0.99      0.99      0.99     10000\n",
            "weighted avg       0.99      0.99      0.99     10000\n",
            "\n"
          ]
        }
      ],
      "source": [
        "print(metrics.classification_report(prediction,ytest))"
      ]
    }
  ],
  "metadata": {
    "kernelspec": {
      "display_name": "Python 3 (ipykernel)",
      "language": "python",
      "name": "python3"
    },
    "language_info": {
      "codemirror_mode": {
        "name": "ipython",
        "version": 3
      },
      "file_extension": ".py",
      "mimetype": "text/x-python",
      "name": "python",
      "nbconvert_exporter": "python",
      "pygments_lexer": "ipython3",
      "version": "3.9.7"
    },
    "colab": {
      "name": "Mnist_dataset.ipynb",
      "provenance": []
    },
    "accelerator": "GPU"
  },
  "nbformat": 4,
  "nbformat_minor": 5
}