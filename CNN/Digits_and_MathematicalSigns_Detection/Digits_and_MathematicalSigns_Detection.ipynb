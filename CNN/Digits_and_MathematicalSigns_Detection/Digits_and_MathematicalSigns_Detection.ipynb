{
  "nbformat": 4,
  "nbformat_minor": 0,
  "metadata": {
    "colab": {
      "name": "Untitled1.ipynb",
      "provenance": [],
      "collapsed_sections": []
    },
    "kernelspec": {
      "name": "python3",
      "display_name": "Python 3"
    },
    "language_info": {
      "name": "python"
    },
    "accelerator": "GPU"
  },
  "cells": [
    {
      "cell_type": "code",
      "source": [
        "!pip install split_folders"
      ],
      "metadata": {
        "colab": {
          "base_uri": "https://localhost:8080/"
        },
        "id": "Dfp_rh_gokcx",
        "outputId": "d2d276f8-8cd1-4990-ed93-7087914f3e61"
      },
      "execution_count": 16,
      "outputs": [
        {
          "output_type": "stream",
          "name": "stdout",
          "text": [
            "Collecting split_folders\n",
            "  Downloading split_folders-0.5.1-py3-none-any.whl (8.4 kB)\n",
            "Installing collected packages: split-folders\n",
            "Successfully installed split-folders-0.5.1\n"
          ]
        }
      ]
    },
    {
      "cell_type": "code",
      "execution_count": 1,
      "metadata": {
        "colab": {
          "base_uri": "https://localhost:8080/"
        },
        "id": "WvzGjG2JNVpF",
        "outputId": "361a18e2-4248-4188-a96f-507f7d1e76e0"
      },
      "outputs": [
        {
          "output_type": "stream",
          "name": "stdout",
          "text": [
            "Mounted at /content/gdrive\n"
          ]
        }
      ],
      "source": [
        "from google.colab import drive\n",
        "drive.mount(\"/content/gdrive\")"
      ]
    },
    {
      "cell_type": "code",
      "source": [
        "#!unzip /content/gdrive/MyDrive/gdriveupmebot/archive.zip"
      ],
      "metadata": {
        "id": "9zb02NMKNZDz"
      },
      "execution_count": 45,
      "outputs": []
    },
    {
      "cell_type": "code",
      "source": [
        "main_dir=\"/content/dataset/\""
      ],
      "metadata": {
        "id": "k30E9CElNmGy"
      },
      "execution_count": 6,
      "outputs": []
    },
    {
      "cell_type": "markdown",
      "source": [
        "# Importing Libraries"
      ],
      "metadata": {
        "id": "MmtRH-c81zyb"
      }
    },
    {
      "cell_type": "code",
      "source": [
        "import os \n",
        "from matplotlib.image import imread\n",
        "import matplotlib.pyplot as plt\n",
        "import seaborn as sns\n",
        "from PIL import Image\n",
        "import splitfolders as sf\n",
        "from tensorflow.keras.preprocessing.image import ImageDataGenerator\n",
        "from tensorflow.keras.models import Sequential \n",
        "from tensorflow.keras.layers import Conv2D,MaxPool2D,Flatten,Dense,Dropout\n",
        "from tensorflow.keras.callbacks import EarlyStopping\n",
        "import pandas as pd\n",
        "import numpy as np\n",
        "from sklearn.metrics import classification_report,confusion_matrix"
      ],
      "metadata": {
        "id": "guCihMQkOE1V"
      },
      "execution_count": 4,
      "outputs": []
    },
    {
      "cell_type": "markdown",
      "source": [
        "**Example**"
      ],
      "metadata": {
        "id": "9gDvQI8q13s8"
      }
    },
    {
      "cell_type": "code",
      "source": [
        "plt.imshow(imread(main_dir+\"0/\"+\"87994.jpg\"))"
      ],
      "metadata": {
        "colab": {
          "base_uri": "https://localhost:8080/",
          "height": 288
        },
        "id": "YOI39y1zOFVg",
        "outputId": "97eb9dea-ce14-45d3-f866-f09a19b6bdff"
      },
      "execution_count": 7,
      "outputs": [
        {
          "output_type": "execute_result",
          "data": {
            "text/plain": [
              "<matplotlib.image.AxesImage at 0x7ff25c37c9d0>"
            ]
          },
          "metadata": {},
          "execution_count": 7
        },
        {
          "output_type": "display_data",
          "data": {
            "image/png": "[encoded data removed]",
            "text/plain": [
              "<Figure size 432x288 with 1 Axes>"
            ]
          },
          "metadata": {
            "needs_background": "light"
          }
        }
      ]
    },
    {
      "cell_type": "markdown",
      "source": [
        "# Reshaping data"
      ],
      "metadata": {
        "id": "7lroqL_r18R9"
      }
    },
    {
      "cell_type": "code",
      "source": [
        "imread(main_dir+\"0/\"+\"87994.jpg\").shape"
      ],
      "metadata": {
        "colab": {
          "base_uri": "https://localhost:8080/"
        },
        "id": "DAMHD5tMOHP_",
        "outputId": "bdcc4a4c-63ea-4526-9164-3c64961eeef6"
      },
      "execution_count": 8,
      "outputs": [
        {
          "output_type": "execute_result",
          "data": {
            "text/plain": [
              "(137, 150, 3)"
            ]
          },
          "metadata": {},
          "execution_count": 8
        }
      ]
    },
    {
      "cell_type": "code",
      "source": [
        "x=[]\n",
        "y=[]\n",
        "for i in os.listdir(main_dir+\"0\"):\n",
        "  temp=imread(main_dir+\"0/\"+i)\n",
        "  dim1,dim2,channel=temp.shape\n",
        "  x.append(dim1)\n",
        "  y.append(dim2)\n",
        "\n",
        "sns.jointplot(x=x,y=y)"
      ],
      "metadata": {
        "colab": {
          "base_uri": "https://localhost:8080/",
          "height": 460
        },
        "id": "lcTYZ0KeOMeC",
        "outputId": "02ee100f-9a8c-4778-ac2b-9eb553019aab"
      },
      "execution_count": 9,
      "outputs": [
        {
          "output_type": "execute_result",
          "data": {
            "text/plain": [
              "<seaborn.axisgrid.JointGrid at 0x7ff25c2aa110>"
            ]
          },
          "metadata": {},
          "execution_count": 9
        },
        {
          "output_type": "display_data",
          "data": {
            "image/png": "[encoded data removed]",
            "text/plain": [
              "<Figure size 432x432 with 3 Axes>"
            ]
          },
          "metadata": {
            "needs_background": "light"
          }
        }
      ]
    },
    {
      "cell_type": "code",
      "source": [
        "for classes in os.listdir(\"/content/dataset\"):\n",
        "  if classes != \".directory\":\n",
        "    os.mkdir(\"/content/Resized_channelReduces_data/\"+classes)"
      ],
      "metadata": {
        "id": "2GUB5LgEOUux"
      },
      "execution_count": 12,
      "outputs": []
    },
    {
      "cell_type": "code",
      "source": [
        "for classes in os.listdir(\"/content/dataset\"):\n",
        "  if classes != \".directory\":\n",
        "    for img in os.listdir(\"/content/dataset/\"+classes):\n",
        "      if img != \".directory\":\n",
        "        Image.open(\"/content/dataset/\"+classes+\"/\"+img).resize((150,150)).save(\"/content/Resized_channelReduces_data/\"+classes+\"/\"+img)"
      ],
      "metadata": {
        "id": "9pxg6WI8OZ1h"
      },
      "execution_count": 13,
      "outputs": []
    },
    {
      "cell_type": "code",
      "source": [
        "main_dir=\"/content/Resized_channelReduces_data/\"\n",
        "\n",
        "x=[]\n",
        "y=[]\n",
        "for i in os.listdir(main_dir+\"0\"):\n",
        "  temp=imread(main_dir+\"0/\"+i)\n",
        "  dim1,dim2,channel=temp.shape\n",
        "  x.append(dim1)\n",
        "  y.append(dim2)\n",
        "\n",
        "sns.jointplot(x=x,y=y)"
      ],
      "metadata": {
        "colab": {
          "base_uri": "https://localhost:8080/",
          "height": 460
        },
        "id": "F58cEI3LOnra",
        "outputId": "94acb8e3-0171-4502-e9ed-9d1af8f12dc5"
      },
      "execution_count": 14,
      "outputs": [
        {
          "output_type": "execute_result",
          "data": {
            "text/plain": [
              "<seaborn.axisgrid.JointGrid at 0x7ff25c2a5190>"
            ]
          },
          "metadata": {},
          "execution_count": 14
        },
        {
          "output_type": "display_data",
          "data": {
            "image/png": "[encoded data removed]",
            "text/plain": [
              "<Figure size 432x432 with 3 Axes>"
            ]
          },
          "metadata": {
            "needs_background": "light"
          }
        }
      ]
    },
    {
      "cell_type": "code",
      "source": [
        "shape=imread(main_dir+\"0/\"+\"87994.jpg\").shape"
      ],
      "metadata": {
        "id": "OOmPtZgEl9Y6"
      },
      "execution_count": 15,
      "outputs": []
    },
    {
      "cell_type": "markdown",
      "source": [
        "**Splitting data to train test and validation**"
      ],
      "metadata": {
        "id": "WFtLMQ8S2CU1"
      }
    },
    {
      "cell_type": "code",
      "source": [
        "sf.ratio(main_dir,output=\"/content/Splited_Data\",ratio=(.7,.1,.2))"
      ],
      "metadata": {
        "colab": {
          "base_uri": "https://localhost:8080/"
        },
        "id": "ta4szjGcosRl",
        "outputId": "8bbeb810-e170-473e-bfc8-bb333f7dd7dd"
      },
      "execution_count": 18,
      "outputs": [
        {
          "output_type": "stream",
          "name": "stderr",
          "text": [
            "Copying files: 10071 files [00:01, 6003.55 files/s]\n"
          ]
        }
      ]
    },
    {
      "cell_type": "markdown",
      "source": [
        "**Loading images as data**"
      ],
      "metadata": {
        "id": "dSwuhtdE2Gez"
      }
    },
    {
      "cell_type": "code",
      "source": [
        "generator=ImageDataGenerator(rotation_range=5,\n",
        "                             width_shift_range=.1,\n",
        "                             height_shift_range=.1,\n",
        "                             zoom_range=.1,\n",
        "                             rescale=1/255)"
      ],
      "metadata": {
        "id": "oUTBjAT5nzQq"
      },
      "execution_count": 20,
      "outputs": []
    },
    {
      "cell_type": "code",
      "source": [
        "train=generator.flow_from_directory(\"/content/Splited_Data/train\",target_size=(150,150))\n",
        "val=generator.flow_from_directory(\"/content/Splited_Data/val\",target_size=(150,150),shuffle=False)\n",
        "test=generator.flow_from_directory(\"/content/Splited_Data/train\",target_size=(150,150),shuffle=False)"
      ],
      "metadata": {
        "colab": {
          "base_uri": "https://localhost:8080/"
        },
        "id": "m1MjJA7BoiE-",
        "outputId": "9b7f7248-618f-40b4-df09-83a2682ef797"
      },
      "execution_count": 21,
      "outputs": [
        {
          "output_type": "stream",
          "name": "stdout",
          "text": [
            "Found 7041 images belonging to 19 classes.\n",
            "Found 999 images belonging to 19 classes.\n",
            "Found 7041 images belonging to 19 classes.\n"
          ]
        }
      ]
    },
    {
      "cell_type": "code",
      "source": [
        "train.class_indices"
      ],
      "metadata": {
        "colab": {
          "base_uri": "https://localhost:8080/"
        },
        "id": "zORHgk4_pi7v",
        "outputId": "ad67cdae-c9dc-4a36-94b8-df92b207a9b0"
      },
      "execution_count": 22,
      "outputs": [
        {
          "output_type": "execute_result",
          "data": {
            "text/plain": [
              "{'0': 0,\n",
              " '1': 1,\n",
              " '2': 2,\n",
              " '3': 3,\n",
              " '4': 4,\n",
              " '5': 5,\n",
              " '6': 6,\n",
              " '7': 7,\n",
              " '8': 8,\n",
              " '9': 9,\n",
              " 'add': 10,\n",
              " 'dec': 11,\n",
              " 'div': 12,\n",
              " 'eq': 13,\n",
              " 'mul': 14,\n",
              " 'sub': 15,\n",
              " 'x': 16,\n",
              " 'y': 17,\n",
              " 'z': 18}"
            ]
          },
          "metadata": {},
          "execution_count": 22
        }
      ]
    },
    {
      "cell_type": "markdown",
      "source": [
        "# Model"
      ],
      "metadata": {
        "id": "PV9myjJq2LUO"
      }
    },
    {
      "cell_type": "code",
      "source": [
        "es=EarlyStopping(patience=2)"
      ],
      "metadata": {
        "id": "erVhEKhOmzAt"
      },
      "execution_count": 24,
      "outputs": []
    },
    {
      "cell_type": "code",
      "source": [
        "model= Sequential()\n",
        "\n",
        "model.add(Conv2D(filters=32,kernel_size=(5,5),activation=\"relu\"))\n",
        "model.add(MaxPool2D(pool_size=(5,5)))\n",
        "\n",
        "model.add(Conv2D(filters=64,kernel_size=(3,3),activation=\"relu\"))\n",
        "model.add(MaxPool2D(pool_size=(3,3)))\n",
        "\n",
        "model.add(Conv2D(filters=64,kernel_size=(3,3),activation=\"relu\"))\n",
        "model.add(MaxPool2D(pool_size=(3,3)))\n",
        "\n",
        "model.add(Flatten())\n",
        "\n",
        "model.add(Dense(64,activation=\"relu\"))\n",
        "model.add(Dropout(.4))\n",
        "\n",
        "model.add(Dense(32,activation=\"relu\"))\n",
        "model.add(Dropout(.3))\n",
        "\n",
        "model.add(Dense(19,activation=\"softmax\"))\n",
        "\n",
        "model.compile(loss=\"categorical_crossentropy\",optimizer=\"adam\",metrics=[\"accuracy\"])\n",
        "\n",
        "\n",
        "model.fit(train,validation_data=val,callbacks=[es],epochs=25)"
      ],
      "metadata": {
        "colab": {
          "base_uri": "https://localhost:8080/"
        },
        "id": "8teXWe-vm9T_",
        "outputId": "1eb52c7b-4c2d-42f6-8ecf-a7d9b854b6c8"
      },
      "execution_count": 32,
      "outputs": [
        {
          "output_type": "stream",
          "name": "stdout",
          "text": [
            "Epoch 1/25\n",
            "221/221 [==============================] - 51s 228ms/step - loss: 2.6866 - accuracy: 0.1459 - val_loss: 1.9985 - val_accuracy: 0.5035\n",
            "Epoch 2/25\n",
            "221/221 [==============================] - 50s 224ms/step - loss: 1.8063 - accuracy: 0.4299 - val_loss: 1.1037 - val_accuracy: 0.7077\n",
            "Epoch 3/25\n",
            "221/221 [==============================] - 48s 216ms/step - loss: 1.3450 - accuracy: 0.5783 - val_loss: 0.7948 - val_accuracy: 0.8018\n",
            "Epoch 4/25\n",
            "221/221 [==============================] - 49s 221ms/step - loss: 1.1114 - accuracy: 0.6478 - val_loss: 0.5967 - val_accuracy: 0.8428\n",
            "Epoch 5/25\n",
            "221/221 [==============================] - 47s 215ms/step - loss: 0.9362 - accuracy: 0.7039 - val_loss: 0.4701 - val_accuracy: 0.8789\n",
            "Epoch 6/25\n",
            "221/221 [==============================] - 47s 213ms/step - loss: 0.8540 - accuracy: 0.7324 - val_loss: 0.5216 - val_accuracy: 0.8398\n",
            "Epoch 7/25\n",
            "221/221 [==============================] - 47s 213ms/step - loss: 0.8479 - accuracy: 0.7333 - val_loss: 0.4492 - val_accuracy: 0.8629\n",
            "Epoch 8/25\n",
            "221/221 [==============================] - 47s 212ms/step - loss: 0.7234 - accuracy: 0.7732 - val_loss: 0.3472 - val_accuracy: 0.9039\n",
            "Epoch 9/25\n",
            "221/221 [==============================] - 47s 213ms/step - loss: 0.6754 - accuracy: 0.7962 - val_loss: 0.2945 - val_accuracy: 0.9249\n",
            "Epoch 10/25\n",
            "221/221 [==============================] - 46s 210ms/step - loss: 0.6148 - accuracy: 0.8022 - val_loss: 0.2834 - val_accuracy: 0.9199\n",
            "Epoch 11/25\n",
            "221/221 [==============================] - 47s 214ms/step - loss: 0.5921 - accuracy: 0.8139 - val_loss: 0.2801 - val_accuracy: 0.9189\n",
            "Epoch 12/25\n",
            "221/221 [==============================] - 47s 213ms/step - loss: 0.5662 - accuracy: 0.8242 - val_loss: 0.3006 - val_accuracy: 0.9179\n",
            "Epoch 13/25\n",
            "221/221 [==============================] - 47s 212ms/step - loss: 0.5238 - accuracy: 0.8372 - val_loss: 0.2872 - val_accuracy: 0.9099\n"
          ]
        },
        {
          "output_type": "execute_result",
          "data": {
            "text/plain": [
              "<keras.callbacks.History at 0x7ff10b5e0990>"
            ]
          },
          "metadata": {},
          "execution_count": 32
        }
      ]
    },
    {
      "cell_type": "markdown",
      "source": [
        "# Evaluation"
      ],
      "metadata": {
        "id": "f9QCccgV2No4"
      }
    },
    {
      "cell_type": "code",
      "source": [
        "result=pd.DataFrame(model.history.history)"
      ],
      "metadata": {
        "id": "n1vTadABr35v"
      },
      "execution_count": 34,
      "outputs": []
    },
    {
      "cell_type": "code",
      "source": [
        "result[[\"loss\",\"val_loss\"]].plot()"
      ],
      "metadata": {
        "colab": {
          "base_uri": "https://localhost:8080/",
          "height": 284
        },
        "id": "ocYOdYeTwoT2",
        "outputId": "1883762a-8c8b-44d1-8904-d83d8b0e053e"
      },
      "execution_count": 37,
      "outputs": [
        {
          "output_type": "execute_result",
          "data": {
            "text/plain": [
              "<matplotlib.axes._subplots.AxesSubplot at 0x7ff0fd7a9190>"
            ]
          },
          "metadata": {},
          "execution_count": 37
        },
        {
          "output_type": "display_data",
          "data": {
            "image/png": "[encoded data removed]",
            "text/plain": [
              "<Figure size 432x288 with 1 Axes>"
            ]
          },
          "metadata": {
            "needs_background": "light"
          }
        }
      ]
    },
    {
      "cell_type": "code",
      "source": [
        "result[[\"accuracy\",\"val_accuracy\"]].plot()"
      ],
      "metadata": {
        "colab": {
          "base_uri": "https://localhost:8080/",
          "height": 284
        },
        "id": "gCfDl4kmz_DQ",
        "outputId": "72e6e3d1-7aa5-49d2-e4cf-97ee971c61d6"
      },
      "execution_count": 38,
      "outputs": [
        {
          "output_type": "execute_result",
          "data": {
            "text/plain": [
              "<matplotlib.axes._subplots.AxesSubplot at 0x7ff0fd6fc410>"
            ]
          },
          "metadata": {},
          "execution_count": 38
        },
        {
          "output_type": "display_data",
          "data": {
            "image/png": "[encoded data removed]",
            "text/plain": [
              "<Figure size 432x288 with 1 Axes>"
            ]
          },
          "metadata": {
            "needs_background": "light"
          }
        }
      ]
    },
    {
      "cell_type": "code",
      "source": [
        "prediction=np.argmax(model.predict(test), axis=-1)"
      ],
      "metadata": {
        "id": "MAPnQz9Y0LtP"
      },
      "execution_count": 40,
      "outputs": []
    },
    {
      "cell_type": "code",
      "source": [
        "print(classification_report(prediction,test.classes))"
      ],
      "metadata": {
        "colab": {
          "base_uri": "https://localhost:8080/"
        },
        "id": "-lcbJPtO0sRe",
        "outputId": "9a249c7a-120c-4987-9a3f-7cffae820d32"
      },
      "execution_count": 43,
      "outputs": [
        {
          "output_type": "stream",
          "name": "stdout",
          "text": [
            "              precision    recall  f1-score   support\n",
            "\n",
            "           0       0.87      0.88      0.87       408\n",
            "           1       0.97      0.93      0.95       410\n",
            "           2       0.85      0.91      0.88       284\n",
            "           3       0.96      0.85      0.90       428\n",
            "           4       0.91      0.95      0.93       351\n",
            "           5       0.94      0.90      0.92       315\n",
            "           6       0.89      0.95      0.92       380\n",
            "           7       0.94      0.93      0.93       380\n",
            "           8       0.91      0.93      0.92       378\n",
            "           9       0.95      0.88      0.91       410\n",
            "          10       0.98      0.97      0.97       421\n",
            "          11       0.99      0.99      0.99       436\n",
            "          12       0.93      0.99      0.96       405\n",
            "          13       0.96      0.93      0.94       460\n",
            "          14       0.96      0.97      0.96       398\n",
            "          15       0.98      0.95      0.96       472\n",
            "          16       0.87      0.93      0.90       295\n",
            "          17       0.93      0.97      0.95       268\n",
            "          18       0.95      0.99      0.97       142\n",
            "\n",
            "    accuracy                           0.93      7041\n",
            "   macro avg       0.93      0.94      0.93      7041\n",
            "weighted avg       0.94      0.93      0.93      7041\n",
            "\n"
          ]
        }
      ]
    },
    {
      "cell_type": "code",
      "source": [
        "print(confusion_matrix(prediction,test.classes))"
      ],
      "metadata": {
        "colab": {
          "base_uri": "https://localhost:8080/"
        },
        "id": "6KeDUC1409KA",
        "outputId": "c2c5f42b-1dc3-40b3-e87f-752243f033a7"
      },
      "execution_count": 44,
      "outputs": [
        {
          "output_type": "stream",
          "name": "stdout",
          "text": [
            "[[360   0   1   2   7   0  13   0  16   7   0   0   0   0   2   0   0   0\n",
            "    0]\n",
            " [  3 382   0   0   3   1   3   8   1   3   2   0   0   0   0   0   2   2\n",
            "    0]\n",
            " [  3   0 259   2   0   2   0   5   0   0   1   0   0   0   1   0  11   0\n",
            "    0]\n",
            " [  3   0  29 363   0   6   2   4   6   2   0   0   6   0   0   0   4   0\n",
            "    3]\n",
            " [  4   0   0   0 335   0   0   0   0   1   1   0   0   0   0   0   3   7\n",
            "    0]\n",
            " [  4   1   2   3   0 285  12   0   2   0   0   0   0   3   0   0   3   0\n",
            "    0]\n",
            " [  6   0   0   0   4   3 362   0   1   3   0   0   0   0   1   0   0   0\n",
            "    0]\n",
            " [  0   4  11   3   0   0   0 352   0   4   3   0   0   0   0   0   2   0\n",
            "    1]\n",
            " [ 11   0   0   2   0   0   9   0 351   0   0   0   0   0   2   0   1   2\n",
            "    0]\n",
            " [ 20   1   0   0   8   1   4   0  10 362   0   0   0   0   0   0   0   4\n",
            "    0]\n",
            " [  1   5   0   0   5   1   0   1   0   0 407   0   0   0   0   0   1   0\n",
            "    0]\n",
            " [  0   0   0   0   0   0   0   0   0   0   0 432   1   1   1   0   1   0\n",
            "    0]\n",
            " [  0   0   0   1   0   0   0   0   0   0   1   2 401   0   0   0   0   0\n",
            "    0]\n",
            " [  0   0   0   1   0   1   0   0   0   0   0   1  18 426   0  11   0   0\n",
            "    2]\n",
            " [  0   0   0   0   0   0   0   0   0   0   0   0   1   0 386   0  10   1\n",
            "    0]\n",
            " [  0   0   0   0   0   2   0   0   0   0   2   1   5  13   0 447   1   1\n",
            "    0]\n",
            " [  1   0   1   0   2   1   1   2   0   0   0   0   0   0   8   0 274   3\n",
            "    2]\n",
            " [  0   0   0   0   4   0   0   0   0   0   0   0   0   0   2   0   3 259\n",
            "    0]\n",
            " [  0   0   0   1   0   0   0   1   0   0   0   0   0   0   0   0   0   0\n",
            "  140]]\n"
          ]
        }
      ]
    }
  ]
}