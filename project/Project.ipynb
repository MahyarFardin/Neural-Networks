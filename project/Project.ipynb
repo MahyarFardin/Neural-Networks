{
  "nbformat": 4,
  "nbformat_minor": 0,
  "metadata": {
    "colab": {
      "provenance": [],
      "authorship_tag": "ABX9TyO9vxkJnhR701ez4EZozAKX",
      "include_colab_link": true
    },
    "kernelspec": {
      "name": "python3",
      "display_name": "Python 3"
    },
    "language_info": {
      "name": "python"
    },
    "accelerator": "GPU",
    "gpuClass": "standard"
  },
  "cells": [
    {
      "cell_type": "markdown",
      "metadata": {
        "id": "view-in-github",
        "colab_type": "text"
      },
      "source": [
        "<a href=\"https://colab.research.google.com/github/MahyarFardin/Neural-Networks/blob/neural-network/project/Project.ipynb\" target=\"_parent\"><img src=\"https://colab.research.google.com/assets/colab-badge.svg\" alt=\"Open In Colab\"/></a>"
      ]
    },
    {
      "cell_type": "code",
      "execution_count": 1,
      "metadata": {
        "colab": {
          "base_uri": "https://localhost:8080/"
        },
        "id": "Sk7N7t8piXap",
        "outputId": "d2ca3396-4038-468f-c184-695177f45461"
      },
      "outputs": [
        {
          "output_type": "stream",
          "name": "stdout",
          "text": [
            "Mounted at /content/gdrive/\n"
          ]
        }
      ],
      "source": [
        "from google.colab import drive\n",
        "drive.mount(\"/content/gdrive/\")"
      ]
    },
    {
      "cell_type": "code",
      "source": [
        "!git clone https://github.com/ieee8023/covid-chestxray-dataset.git"
      ],
      "metadata": {
        "id": "rW8g04iKJAJS"
      },
      "execution_count": null,
      "outputs": []
    },
    {
      "cell_type": "code",
      "source": [
        "!unzip /content/gdrive/MyDrive/GdriveXbot/archive.zip -d /content/gdrive/MyDrive/temp"
      ],
      "metadata": {
        "id": "lhl_SVY3ibIr"
      },
      "execution_count": null,
      "outputs": []
    },
    {
      "cell_type": "code",
      "source": [
        "import os\n",
        "import shutil\n",
        "import numpy as np\n",
        "import pandas as pd\n",
        "import cv2\n",
        "import random\n",
        "from matplotlib.image import imread\n",
        "from PIL import Image\n",
        "import seaborn as sns\n",
        "import matplotlib.pyplot as plt\n",
        "%matplotlib inline\n",
        "plt.rcParams['figure.dpi'] = 150"
      ],
      "metadata": {
        "id": "bkndkcJ_i038"
      },
      "execution_count": 2,
      "outputs": []
    },
    {
      "cell_type": "code",
      "source": [
        "for x in os.listdir(\"/content/gdrive/MyDrive/temp/chest_xray/test\"):\n",
        "  print(x+\": \"+str(len(os.listdir(os.path.join(\"/content/gdrive/MyDrive/temp/chest_xray/test\",x)))))"
      ],
      "metadata": {
        "colab": {
          "base_uri": "https://localhost:8080/"
        },
        "id": "JuFRm6ZqJu9q",
        "outputId": "b4c243ef-b619-406d-f3ac-84e4f603d8e0"
      },
      "execution_count": null,
      "outputs": [
        {
          "output_type": "stream",
          "name": "stdout",
          "text": [
            "NORMAL: 234\n",
            "PNEUMONIA: 390\n"
          ]
        }
      ]
    },
    {
      "cell_type": "code",
      "source": [
        "for x in os.listdir(\"/content/gdrive/MyDrive/temp/chest_xray/train\"):\n",
        "  print(x+\": \"+str(len(os.listdir(os.path.join(\"/content/gdrive/MyDrive/temp/chest_xray/train\",x)))))"
      ],
      "metadata": {
        "colab": {
          "base_uri": "https://localhost:8080/"
        },
        "id": "U7OlNXYdK9sF",
        "outputId": "086bc1a2-efef-4d79-f02a-9fe2a0a9ba28"
      },
      "execution_count": null,
      "outputs": [
        {
          "output_type": "stream",
          "name": "stdout",
          "text": [
            "NORMAL: 1341\n",
            "PNEUMONIA: 3875\n"
          ]
        }
      ]
    },
    {
      "cell_type": "code",
      "source": [
        "for x in os.listdir(\"/content/gdrive/MyDrive/temp/chest_xray/val\"):\n",
        "  print(x+\": \"+str(len(os.listdir(os.path.join(\"/content/gdrive/MyDrive/temp/chest_xray/val\",x)))))"
      ],
      "metadata": {
        "colab": {
          "base_uri": "https://localhost:8080/"
        },
        "id": "5YSzwREsLBRi",
        "outputId": "f128e005-3373-4ab3-c12a-70c8eb47d744"
      },
      "execution_count": null,
      "outputs": [
        {
          "output_type": "stream",
          "name": "stdout",
          "text": [
            "NORMAL: 8\n",
            "PNEUMONIA: 8\n"
          ]
        }
      ]
    },
    {
      "cell_type": "code",
      "source": [
        "metadata=pd.read_csv(\"/content/covid-chestxray-dataset/metadata.csv\")"
      ],
      "metadata": {
        "id": "XBJUO4G9LY9U"
      },
      "execution_count": null,
      "outputs": []
    },
    {
      "cell_type": "code",
      "source": [
        "len(os.listdir(\"/content/covid-chestxray-dataset/images\"))"
      ],
      "metadata": {
        "colab": {
          "base_uri": "https://localhost:8080/"
        },
        "id": "Qpt7REhVMAoX",
        "outputId": "f2d3027d-b190-4807-8c22-a212e0679f07"
      },
      "execution_count": null,
      "outputs": [
        {
          "output_type": "execute_result",
          "data": {
            "text/plain": [
              "930"
            ]
          },
          "metadata": {},
          "execution_count": 22
        }
      ]
    },
    {
      "cell_type": "code",
      "source": [
        "metadata.info()"
      ],
      "metadata": {
        "colab": {
          "base_uri": "https://localhost:8080/"
        },
        "id": "0HGyt-lJMoCD",
        "outputId": "5d309a4f-3496-48e9-9f7b-be536e07cde6"
      },
      "execution_count": null,
      "outputs": [
        {
          "output_type": "stream",
          "name": "stdout",
          "text": [
            "<class 'pandas.core.frame.DataFrame'>\n",
            "RangeIndex: 950 entries, 0 to 949\n",
            "Data columns (total 30 columns):\n",
            " #   Column                  Non-Null Count  Dtype  \n",
            "---  ------                  --------------  -----  \n",
            " 0   patientid               950 non-null    object \n",
            " 1   offset                  697 non-null    float64\n",
            " 2   sex                     870 non-null    object \n",
            " 3   age                     713 non-null    float64\n",
            " 4   finding                 950 non-null    object \n",
            " 5   RT_PCR_positive         593 non-null    object \n",
            " 6   survival                361 non-null    object \n",
            " 7   intubated               248 non-null    object \n",
            " 8   intubation_present      250 non-null    object \n",
            " 9   went_icu                397 non-null    object \n",
            " 10  in_icu                  335 non-null    object \n",
            " 11  needed_supplemental_O2  90 non-null     object \n",
            " 12  extubated               37 non-null     object \n",
            " 13  temperature             78 non-null     float64\n",
            " 14  pO2_saturation          119 non-null    float64\n",
            " 15  leukocyte_count         16 non-null     float64\n",
            " 16  neutrophil_count        28 non-null     float64\n",
            " 17  lymphocyte_count        40 non-null     float64\n",
            " 18  view                    950 non-null    object \n",
            " 19  modality                950 non-null    object \n",
            " 20  date                    661 non-null    object \n",
            " 21  location                894 non-null    object \n",
            " 22  folder                  950 non-null    object \n",
            " 23  filename                950 non-null    object \n",
            " 24  doi                     382 non-null    object \n",
            " 25  url                     950 non-null    object \n",
            " 26  license                 705 non-null    object \n",
            " 27  clinical_notes          768 non-null    object \n",
            " 28  other_notes             436 non-null    object \n",
            " 29  Unnamed: 29             5 non-null      object \n",
            "dtypes: float64(7), object(23)\n",
            "memory usage: 222.8+ KB\n"
          ]
        }
      ]
    },
    {
      "cell_type": "code",
      "source": [
        "metadata[\"finding\"].unique()"
      ],
      "metadata": {
        "colab": {
          "base_uri": "https://localhost:8080/"
        },
        "id": "Cm8xYWvBLwSu",
        "outputId": "eff97fd3-4653-4e17-cd0f-dd9782a04166"
      },
      "execution_count": null,
      "outputs": [
        {
          "output_type": "execute_result",
          "data": {
            "text/plain": [
              "array(['Pneumonia/Viral/COVID-19', 'Pneumonia', 'Pneumonia/Viral/SARS',\n",
              "       'Pneumonia/Fungal/Pneumocystis',\n",
              "       'Pneumonia/Bacterial/Streptococcus', 'No Finding',\n",
              "       'Pneumonia/Bacterial/Chlamydophila', 'Pneumonia/Bacterial/E.Coli',\n",
              "       'Pneumonia/Bacterial/Klebsiella', 'Pneumonia/Bacterial/Legionella',\n",
              "       'Unknown', 'Pneumonia/Lipoid', 'Pneumonia/Viral/Varicella',\n",
              "       'Pneumonia/Bacterial', 'Pneumonia/Bacterial/Mycoplasma',\n",
              "       'Pneumonia/Viral/Influenza', 'todo', 'Tuberculosis',\n",
              "       'Pneumonia/Viral/Influenza/H1N1', 'Pneumonia/Fungal/Aspergillosis',\n",
              "       'Pneumonia/Viral/Herpes ', 'Pneumonia/Aspiration',\n",
              "       'Pneumonia/Bacterial/Nocardia', 'Pneumonia/Viral/MERS-CoV',\n",
              "       'Pneumonia/Bacterial/Staphylococcus/MRSA'], dtype=object)"
            ]
          },
          "metadata": {},
          "execution_count": 66
        }
      ]
    },
    {
      "cell_type": "code",
      "source": [
        "metadata=metadata.drop(metadata[metadata[\"finding\"].str.contains(\"No Finding\")].index)\n",
        "metadata=metadata.drop(metadata[metadata[\"finding\"].str.contains(\"Unknown\")].index)\n",
        "metadata=metadata.drop(metadata[metadata[\"finding\"].str.contains(\"todo\")].index)"
      ],
      "metadata": {
        "id": "vCfUU0E-NXnx"
      },
      "execution_count": null,
      "outputs": []
    },
    {
      "cell_type": "code",
      "source": [
        "metadata=metadata.reset_index()"
      ],
      "metadata": {
        "id": "EjJtCXx3SkuR"
      },
      "execution_count": null,
      "outputs": []
    },
    {
      "cell_type": "code",
      "source": [
        "metadata.loc[8][\"finding\"]"
      ],
      "metadata": {
        "colab": {
          "base_uri": "https://localhost:8080/",
          "height": 35
        },
        "id": "jpprZcUvT23h",
        "outputId": "3dd9784f-6303-4d40-de4b-251f5a04a458"
      },
      "execution_count": null,
      "outputs": [
        {
          "output_type": "execute_result",
          "data": {
            "text/plain": [
              "'Pneumonia/Viral/COVID-19'"
            ],
            "application/vnd.google.colaboratory.intrinsic+json": {
              "type": "string"
            }
          },
          "metadata": {},
          "execution_count": 75
        }
      ]
    },
    {
      "cell_type": "code",
      "source": [
        "for i in range(len(metadata)):\n",
        "  try:\n",
        "    if(metadata.loc[i][\"finding\"]==\"Pneumonia/Viral/COVID-19\"):\n",
        "      shutil.copyfile(os.path.join(\"/content/covid-chestxray-dataset/images\",metadata.loc[i][\"filename\"]),os.path.join(\"/content/data/covid\",metadata.loc[i][\"filename\"]))\n",
        "    else:\n",
        "      shutil.copyfile(os.path.join(\"/content/covid-chestxray-dataset/images\",metadata.loc[i][\"filename\"]),os.path.join(\"/content/data/non-covid\",metadata.loc[i][\"filename\"]))\n",
        "  except:\n",
        "    print(metadata.loc[i][\"filename\"])"
      ],
      "metadata": {
        "colab": {
          "base_uri": "https://localhost:8080/"
        },
        "id": "dAcbi31jO_Eb",
        "outputId": "10bc67ba-3715-4007-cdfa-95e0732ff73a"
      },
      "execution_count": null,
      "outputs": [
        {
          "output_type": "stream",
          "name": "stdout",
          "text": [
            "radiopaedia_org_covid-19-pneumonia-7_85703_0-dcm.nii.gz\n",
            "radiopaedia_org_covid-19-pneumonia-14_85914_0-dcm.nii.gz\n",
            "coronacases_org_001.nii.gz\n",
            "coronacases_org_002.nii.gz\n",
            "coronacases_org_003.nii.gz\n",
            "coronacases_org_004.nii.gz\n",
            "coronacases_org_005.nii.gz\n",
            "coronacases_org_006.nii.gz\n",
            "coronacases_org_007.nii.gz\n",
            "coronacases_org_008.nii.gz\n",
            "coronacases_org_009.nii.gz\n",
            "coronacases_org_010.nii.gz\n",
            "radiopaedia_org_covid-19-pneumonia-4_85506_1-dcm.nii.gz\n",
            "radiopaedia_org_covid-19-pneumonia-29_86490_1-dcm.nii.gz\n",
            "radiopaedia_org_covid-19-pneumonia-29_86491_1-dcm.nii.gz\n",
            "radiopaedia_org_covid-19-pneumonia-23_86359_0-dcm.nii.gz\n",
            "radiopaedia_org_covid-19-pneumonia-10_85902_1-dcm.nii.gz\n",
            "radiopaedia_org_covid-19-pneumonia-10_85902_3-dcm.nii.gz\n",
            "radiopaedia_org_covid-19-pneumonia-36_86526_0-dcm.nii.gz\n",
            "radiopaedia_org_covid-19-pneumonia-27_86410_0-dcm.nii.gz\n",
            "radiopaedia_org_covid-19-pneumonia-40_86625_0-dcm.nii.gz\n"
          ]
        }
      ]
    },
    {
      "cell_type": "code",
      "source": [
        "print(len(os.listdir(\"/content/data/covid\")))\n",
        "print(len(os.listdir(\"/content/data/non-covid\")))"
      ],
      "metadata": {
        "colab": {
          "base_uri": "https://localhost:8080/"
        },
        "id": "3DPqilOoWYBa",
        "outputId": "f432701c-c107-436b-9355-31ab6d61d8e0"
      },
      "execution_count": null,
      "outputs": [
        {
          "output_type": "stream",
          "name": "stdout",
          "text": [
            "563\n",
            "260\n"
          ]
        }
      ]
    },
    {
      "cell_type": "code",
      "source": [
        "563-260"
      ],
      "metadata": {
        "colab": {
          "base_uri": "https://localhost:8080/"
        },
        "id": "1826wzhzXa_M",
        "outputId": "299ca70e-e727-430f-d0af-3816c9ffd2c4"
      },
      "execution_count": null,
      "outputs": [
        {
          "output_type": "execute_result",
          "data": {
            "text/plain": [
              "303"
            ]
          },
          "metadata": {},
          "execution_count": 85
        }
      ]
    },
    {
      "cell_type": "code",
      "source": [
        "files=os.listdir(\"/content/gdrive/MyDrive/temp/chest_xray/train/PNEUMONIA\")"
      ],
      "metadata": {
        "id": "koj7EmYhYYsH"
      },
      "execution_count": null,
      "outputs": []
    },
    {
      "cell_type": "code",
      "source": [
        "for x in range(303):\n",
        "  number=random.randint(0,3875)\n",
        "  shutil.copyfile(os.path.join(\"/content/gdrive/MyDrive/temp/chest_xray/train/PNEUMONIA\",files[number]),os.path.join(\"/content/data/non-covid\",files[number]))"
      ],
      "metadata": {
        "id": "_h7XF6cVXeB8"
      },
      "execution_count": null,
      "outputs": []
    },
    {
      "cell_type": "code",
      "source": [
        "print(len(os.listdir(\"/content/data/covid\")))\n",
        "print(len(os.listdir(\"/content/data/non-covid\")))"
      ],
      "metadata": {
        "colab": {
          "base_uri": "https://localhost:8080/"
        },
        "id": "Tbz38Cbmabre",
        "outputId": "49dad187-3a25-46bc-d256-379a2868fcaf"
      },
      "execution_count": null,
      "outputs": [
        {
          "output_type": "stream",
          "name": "stdout",
          "text": [
            "563\n",
            "563\n"
          ]
        }
      ]
    },
    {
      "cell_type": "code",
      "source": [
        "!unzip /content/gdrive/MyDrive/data.zip -d /content/data"
      ],
      "metadata": {
        "id": "MHBtZnKYd6Wl"
      },
      "execution_count": null,
      "outputs": []
    },
    {
      "cell_type": "code",
      "source": [
        "!zip -r /content/data.zip  /content/gdrive/MyDrive/data"
      ],
      "metadata": {
        "id": "Q0dt6Z0Wvcix"
      },
      "execution_count": null,
      "outputs": []
    },
    {
      "cell_type": "code",
      "source": [
        "data_path=\"/content/gdrive/MyDrive/data\""
      ],
      "metadata": {
        "id": "czvQ6p-bebIH"
      },
      "execution_count": 3,
      "outputs": []
    },
    {
      "cell_type": "code",
      "source": [
        "imagesInfo=[[],[],[]]\n",
        "\n",
        "for subdir in os.listdir(data_path):\n",
        "  for image in os.listdir(os.path.join(data_path, subdir)):\n",
        "    img=Image.open(os.path.join(data_path, subdir, image))\n",
        "    imagesInfo[0].append(img.size[0])\n",
        "    imagesInfo[1].append(img.size[1])\n",
        "    imagesInfo[2].append(img.mode)"
      ],
      "metadata": {
        "id": "Py6iURBYj4cs"
      },
      "execution_count": null,
      "outputs": []
    },
    {
      "cell_type": "code",
      "source": [
        "sns.jointplot(imagesInfo[0],imagesInfo[1])\n",
        "plt.xlabel(\"number of horizental pixels\")\n",
        "plt.ylabel(\"number of vertical pixels\")"
      ],
      "metadata": {
        "colab": {
          "base_uri": "https://localhost:8080/",
          "height": 977
        },
        "id": "beCDCJAVmgtR",
        "outputId": "610b0a14-4b27-4f8c-dcbb-4c6d9f9fcea5"
      },
      "execution_count": null,
      "outputs": [
        {
          "output_type": "stream",
          "name": "stderr",
          "text": [
            "/usr/local/lib/python3.7/dist-packages/seaborn/_decorators.py:43: FutureWarning: Pass the following variables as keyword args: x, y. From version 0.12, the only valid positional argument will be `data`, and passing other arguments without an explicit keyword will result in an error or misinterpretation.\n",
            "  FutureWarning\n"
          ]
        },
        {
          "output_type": "execute_result",
          "data": {
            "text/plain": [
              "Text(702.0238095238095, 0.5, 'number of vertical pixels')"
            ]
          },
          "metadata": {},
          "execution_count": 14
        },
        {
          "output_type": "display_data",
          "data": {
            "text/plain": [
              "<Figure size 900x900 with 3 Axes>"
            ],
            "image/png": "[encoded data removed]"
          },
          "metadata": {
            "needs_background": "light"
          }
        }
      ]
    },
    {
      "cell_type": "code",
      "source": [
        "print(np.average(imagesInfo[0]))\n",
        "print(np.average(imagesInfo[1]))"
      ],
      "metadata": {
        "colab": {
          "base_uri": "https://localhost:8080/"
        },
        "id": "6sNUValYf_zn",
        "outputId": "6e79a48b-c49b-4f69-fead-f3a4435a1dc0"
      },
      "execution_count": null,
      "outputs": [
        {
          "output_type": "stream",
          "name": "stdout",
          "text": [
            "1206.448490230906\n",
            "1049.0657193605684\n"
          ]
        }
      ]
    },
    {
      "cell_type": "code",
      "source": [
        "sns.histplot(imagesInfo[2])"
      ],
      "metadata": {
        "colab": {
          "base_uri": "https://localhost:8080/",
          "height": 552
        },
        "id": "njj1WwLynNvk",
        "outputId": "49cd0c2e-8504-47bc-c0b3-f05905daa13a"
      },
      "execution_count": null,
      "outputs": [
        {
          "output_type": "execute_result",
          "data": {
            "text/plain": [
              "<matplotlib.axes._subplots.AxesSubplot at 0x7f7eed694650>"
            ]
          },
          "metadata": {},
          "execution_count": 8
        },
        {
          "output_type": "display_data",
          "data": {
            "text/plain": [
              "<Figure size 900x600 with 1 Axes>"
            ],
            "image/png": "[encoded data removed]"
          },
          "metadata": {
            "needs_background": "light"
          }
        }
      ]
    },
    {
      "cell_type": "code",
      "source": [
        "images=[]\n",
        "for subdir in os.listdir(data_path):\n",
        "  for image in os.listdir(os.path.join(data_path, subdir)):\n",
        "    images.append([np.asarray(Image.open(os.path.join(data_path, subdir,image)).convert(\"L\")), subdir])"
      ],
      "metadata": {
        "id": "brfmNtdko5UP"
      },
      "execution_count": null,
      "outputs": []
    },
    {
      "cell_type": "code",
      "source": [
        "counter=0\n",
        "\n",
        "for x in images:\n",
        "  temp=Image.fromarray(x[0])\n",
        "\n",
        "  if x[1]==\"covid\":\n",
        "    temp.save(\"/content/gdrive/MyDrive/content/data/covid/\"+str(counter)+\".jpeg\")\n",
        "  else:\n",
        "    temp.save(\"/content/gdrive/MyDrive/content/data/non-covid/\"+str(counter)+\".jpeg\")\n",
        "  \n",
        "  counter+=1"
      ],
      "metadata": {
        "id": "uKYFOeVFmBTg"
      },
      "execution_count": null,
      "outputs": []
    },
    {
      "cell_type": "code",
      "source": [
        "# second step\n",
        "images=[]\n",
        "for subdir in os.listdir(data_path):\n",
        "  counter=0\n",
        "  for image in os.listdir(os.path.join(data_path, subdir)):\n",
        "    counter+=1\n",
        "    images.append([Image.open(os.path.join(data_path, subdir,image)),subdir])\n",
        "    if counter==400:\n",
        "      break"
      ],
      "metadata": {
        "id": "FYvkY3wFyAew"
      },
      "execution_count": 13,
      "outputs": []
    },
    {
      "cell_type": "code",
      "source": [
        "from keras.applications import MobileNetV2, Xception\n",
        "import tensorflow as tf\n",
        "from sklearn.model_selection import cross_validate\n",
        "from tensorflow.keras.models import Sequential\n",
        "from tensorflow.keras.layers import Dense, AveragePooling2D,Dropout\n",
        "from sklearn.metrics import classification_report, confusion_matrix, roc_curve, RocCurveDisplay\n",
        "from tensorflow.keras.utils import to_categorical\n",
        "from sklearn.metrics import classification_report, confusion_matrix"
      ],
      "metadata": {
        "id": "oQMrAY_Ov1Rk"
      },
      "execution_count": 53,
      "outputs": []
    },
    {
      "cell_type": "code",
      "source": [
        "def ImageNet(image):\n",
        "  base_model=MobileNetV2(\n",
        "  include_top=False,\n",
        "  input_shape=(240,240,3),\n",
        "  weights=\"imagenet\")\n",
        "  \n",
        "  base_model.trainable=False\n",
        "\n",
        "  image=cv2.resize(np.asarray(image),(240, 240), cv2.INTER_LINEAR)\n",
        "  image= np.repeat(image[..., np.newaxis], 3, -1)\n",
        "  image=np.expand_dims(image,axis=0)\n",
        "\n",
        "  prediction_layer= AveragePooling2D(pool_size=(8,8))\n",
        "  x = base_model(image, training=False)\n",
        "  outputs = prediction_layer(x)\n",
        "\n",
        "  return outputs"
      ],
      "metadata": {
        "id": "3PfnR-cLuF7M"
      },
      "execution_count": 9,
      "outputs": []
    },
    {
      "cell_type": "code",
      "source": [
        "imagenet_results=[]\n",
        "for i in images:\n",
        "  imagenet_results.append([ImageNet(i[0]), 1 if i[1]==\"covid\" else 0])"
      ],
      "metadata": {
        "id": "fkSZsqPut_BB"
      },
      "execution_count": null,
      "outputs": []
    },
    {
      "cell_type": "code",
      "source": [
        "imagenet_results[0][0].shape    "
      ],
      "metadata": {
        "id": "pr5UcBAZu0Kz",
        "colab": {
          "base_uri": "https://localhost:8080/"
        },
        "outputId": "8ccbef86-1347-4b06-b05a-7515ad3fd9e0"
      },
      "execution_count": 21,
      "outputs": [
        {
          "output_type": "execute_result",
          "data": {
            "text/plain": [
              "TensorShape([1, 1, 1, 1280])"
            ]
          },
          "metadata": {},
          "execution_count": 21
        }
      ]
    },
    {
      "cell_type": "code",
      "source": [
        "mobilenet=[]\n",
        "for x in imagenet_results:\n",
        "  mobilenet.append([np.reshape(x[0],[1280]),x[1]])"
      ],
      "metadata": {
        "id": "FaVdG2OzZeg4"
      },
      "execution_count": 64,
      "outputs": []
    },
    {
      "cell_type": "code",
      "source": [
        "mobilenet[0]"
      ],
      "metadata": {
        "colab": {
          "base_uri": "https://localhost:8080/"
        },
        "id": "5KbuR__SkPr0",
        "outputId": "7a809267-17c4-4e29-d5bf-76be0b05a68c"
      },
      "execution_count": 67,
      "outputs": [
        {
          "output_type": "execute_result",
          "data": {
            "text/plain": [
              "[array([0.33434242, 1.7177333 , 0.        , ..., 0.00830027, 0.49618396,\n",
              "        1.1221013 ], dtype=float32), 1]"
            ]
          },
          "metadata": {},
          "execution_count": 67
        }
      ]
    },
    {
      "cell_type": "code",
      "source": [
        "file=open(\"/content/gdrive/MyDrive/mobilenet.txt\",'a')\n",
        "\n",
        "for x in mobilenet:\n",
        "  file.write(str(x[0])+\"\\n\")"
      ],
      "metadata": {
        "id": "MFPw0qujbGLt"
      },
      "execution_count": 70,
      "outputs": []
    },
    {
      "cell_type": "code",
      "source": [
        "def xception(image):\n",
        "  base_model=Xception(\n",
        "  include_top=False,\n",
        "  input_shape=(299,299,3),\n",
        "  weights=\"imagenet\")\n",
        "  \n",
        "  base_model.trainable=False\n",
        "\n",
        "  image=cv2.resize(np.asarray(image),(299, 299), cv2.INTER_LINEAR)\n",
        "  image= np.repeat(image[..., np.newaxis], 3, -1)\n",
        "  image=np.expand_dims(image,axis=0)\n",
        "\n",
        "  prediction_layer1= AveragePooling2D(pool_size=(10,10))\n",
        "  prediction_layer2= AveragePooling2D(pool_size=(2,2))\n",
        "  x = base_model(image, training=False)\n",
        "  x = prediction_layer2(x)\n",
        "  outputs = prediction_layer1(x)\n",
        "\n",
        "  return outputs"
      ],
      "metadata": {
        "id": "mGBl5n4rdqPK"
      },
      "execution_count": 55,
      "outputs": []
    },
    {
      "cell_type": "code",
      "source": [
        "xception_results=[]\n",
        "for i in images:\n",
        "  xception_results.append([ImageNet(i[0]), 1 if i[1]==\"covid\" else 0])"
      ],
      "metadata": {
        "id": "naga8npbelp3"
      },
      "execution_count": null,
      "outputs": []
    },
    {
      "cell_type": "code",
      "source": [
        "xception_results[0][0].shape"
      ],
      "metadata": {
        "colab": {
          "base_uri": "https://localhost:8080/"
        },
        "id": "-_aWSEFieoWv",
        "outputId": "887c3da1-2454-4603-c736-952b42ecc553"
      },
      "execution_count": 58,
      "outputs": [
        {
          "output_type": "execute_result",
          "data": {
            "text/plain": [
              "TensorShape([1, 1, 1, 1280])"
            ]
          },
          "metadata": {},
          "execution_count": 58
        }
      ]
    },
    {
      "cell_type": "code",
      "source": [
        "xception=[]\n",
        "for x in xception_results:\n",
        "  xception.append([np.reshape(x[0],[1280]),x[1]])"
      ],
      "metadata": {
        "id": "n8NRyUWYjefA"
      },
      "execution_count": 62,
      "outputs": []
    },
    {
      "cell_type": "code",
      "source": [
        "file=open(\"/content/gdrive/MyDrive/xception.txt\",'a')\n",
        "\n",
        "for x in xception:\n",
        "  file.write(str(x[0])+\"\\n\")"
      ],
      "metadata": {
        "id": "KS8bcajWj0Ii"
      },
      "execution_count": 63,
      "outputs": []
    },
    {
      "cell_type": "code",
      "source": [
        "feature_extracted_matrix=[]\n",
        "\n",
        "for i,j in zip(mobilenet, xception):\n",
        "  feature_extracted_matrix.append([[i[0],j[0]], j[1]])"
      ],
      "metadata": {
        "id": "fNCNUDlPkB4m"
      },
      "execution_count": 72,
      "outputs": []
    },
    {
      "cell_type": "code",
      "source": [
        "np.asarray(feature_extracted_matrix[0][0]).shape"
      ],
      "metadata": {
        "colab": {
          "base_uri": "https://localhost:8080/"
        },
        "id": "PK53yi6glYLP",
        "outputId": "0dd777df-af22-4364-fe22-b698a1de22f0"
      },
      "execution_count": 74,
      "outputs": [
        {
          "output_type": "execute_result",
          "data": {
            "text/plain": [
              "(2, 1280)"
            ]
          },
          "metadata": {},
          "execution_count": 74
        }
      ]
    },
    {
      "cell_type": "code",
      "source": [
        "feature_extracted_matrix[0][1]"
      ],
      "metadata": {
        "colab": {
          "base_uri": "https://localhost:8080/"
        },
        "id": "lbCZjxV5leEj",
        "outputId": "51dacf82-db6e-4535-bb28-582d1e1a6868"
      },
      "execution_count": 75,
      "outputs": [
        {
          "output_type": "execute_result",
          "data": {
            "text/plain": [
              "1"
            ]
          },
          "metadata": {},
          "execution_count": 75
        }
      ]
    },
    {
      "cell_type": "code",
      "source": [],
      "metadata": {
        "id": "UJE6u_LtllgJ"
      },
      "execution_count": null,
      "outputs": []
    }
  ]
}