{
  "nbformat": 4,
  "nbformat_minor": 0,
  "metadata": {
    "colab": {
      "provenance": [],
      "collapsed_sections": [],
      "authorship_tag": "ABX9TyPsmfk+vHwtjjyfx05y44Q2",
      "include_colab_link": true
    },
    "kernelspec": {
      "name": "python3",
      "display_name": "Python 3"
    },
    "language_info": {
      "name": "python"
    }
  },
  "cells": [
    {
      "cell_type": "markdown",
      "metadata": {
        "id": "view-in-github",
        "colab_type": "text"
      },
      "source": [
        "<a href=\"https://colab.research.google.com/github/MahyarFardin/Neural-Networks/blob/neural-network/project/Project.ipynb\" target=\"_parent\"><img src=\"https://colab.research.google.com/assets/colab-badge.svg\" alt=\"Open In Colab\"/></a>"
      ]
    },
    {
      "cell_type": "code",
      "execution_count": 1,
      "metadata": {
        "colab": {
          "base_uri": "https://localhost:8080/"
        },
        "id": "Sk7N7t8piXap",
        "outputId": "cc02f5bc-00f0-4d78-f2a1-979aa2117749"
      },
      "outputs": [
        {
          "output_type": "stream",
          "name": "stdout",
          "text": [
            "Mounted at /content/gdrive/\n"
          ]
        }
      ],
      "source": [
        "from google.colab import drive\n",
        "drive.mount(\"/content/gdrive/\")"
      ]
    },
    {
      "cell_type": "code",
      "source": [
        "!git clone https://github.com/ieee8023/covid-chestxray-dataset.git"
      ],
      "metadata": {
        "id": "rW8g04iKJAJS"
      },
      "execution_count": null,
      "outputs": []
    },
    {
      "cell_type": "code",
      "source": [
        "!unzip /content/gdrive/MyDrive/GdriveXbot/archive.zip -d /content/gdrive/MyDrive/temp"
      ],
      "metadata": {
        "id": "lhl_SVY3ibIr"
      },
      "execution_count": null,
      "outputs": []
    },
    {
      "cell_type": "code",
      "source": [
        "import os\n",
        "import shutil\n",
        "import numpy as np\n",
        "import pandas as pd\n",
        "from matplotlib.image import imread\n",
        "from PIL import Image\n",
        "import seaborn as sns\n",
        "import matplotlib.pyplot as plt\n",
        "%matplotlib inline\n",
        "plt.rcParams['figure.dpi'] = 150"
      ],
      "metadata": {
        "id": "bkndkcJ_i038"
      },
      "execution_count": 5,
      "outputs": []
    },
    {
      "cell_type": "code",
      "source": [
        "for x in os.listdir(\"/content/gdrive/MyDrive/temp/chest_xray/test\"):\n",
        "  print(x+\": \"+str(len(os.listdir(os.path.join(\"/content/gdrive/MyDrive/temp/chest_xray/test\",x)))))"
      ],
      "metadata": {
        "colab": {
          "base_uri": "https://localhost:8080/"
        },
        "id": "JuFRm6ZqJu9q",
        "outputId": "b4c243ef-b619-406d-f3ac-84e4f603d8e0"
      },
      "execution_count": 12,
      "outputs": [
        {
          "output_type": "stream",
          "name": "stdout",
          "text": [
            "NORMAL: 234\n",
            "PNEUMONIA: 390\n"
          ]
        }
      ]
    },
    {
      "cell_type": "code",
      "source": [
        "for x in os.listdir(\"/content/gdrive/MyDrive/temp/chest_xray/train\"):\n",
        "  print(x+\": \"+str(len(os.listdir(os.path.join(\"/content/gdrive/MyDrive/temp/chest_xray/train\",x)))))"
      ],
      "metadata": {
        "colab": {
          "base_uri": "https://localhost:8080/"
        },
        "id": "U7OlNXYdK9sF",
        "outputId": "086bc1a2-efef-4d79-f02a-9fe2a0a9ba28"
      },
      "execution_count": 13,
      "outputs": [
        {
          "output_type": "stream",
          "name": "stdout",
          "text": [
            "NORMAL: 1341\n",
            "PNEUMONIA: 3875\n"
          ]
        }
      ]
    },
    {
      "cell_type": "code",
      "source": [
        "for x in os.listdir(\"/content/gdrive/MyDrive/temp/chest_xray/val\"):\n",
        "  print(x+\": \"+str(len(os.listdir(os.path.join(\"/content/gdrive/MyDrive/temp/chest_xray/val\",x)))))"
      ],
      "metadata": {
        "colab": {
          "base_uri": "https://localhost:8080/"
        },
        "id": "5YSzwREsLBRi",
        "outputId": "f128e005-3373-4ab3-c12a-70c8eb47d744"
      },
      "execution_count": 14,
      "outputs": [
        {
          "output_type": "stream",
          "name": "stdout",
          "text": [
            "NORMAL: 8\n",
            "PNEUMONIA: 8\n"
          ]
        }
      ]
    },
    {
      "cell_type": "code",
      "source": [
        "metadata=pd.read_csv(\"/content/covid-chestxray-dataset/metadata.csv\")"
      ],
      "metadata": {
        "id": "XBJUO4G9LY9U"
      },
      "execution_count": 64,
      "outputs": []
    },
    {
      "cell_type": "code",
      "source": [
        "len(os.listdir(\"/content/covid-chestxray-dataset/images\"))"
      ],
      "metadata": {
        "colab": {
          "base_uri": "https://localhost:8080/"
        },
        "id": "Qpt7REhVMAoX",
        "outputId": "f2d3027d-b190-4807-8c22-a212e0679f07"
      },
      "execution_count": 22,
      "outputs": [
        {
          "output_type": "execute_result",
          "data": {
            "text/plain": [
              "930"
            ]
          },
          "metadata": {},
          "execution_count": 22
        }
      ]
    },
    {
      "cell_type": "code",
      "source": [
        "metadata.info()"
      ],
      "metadata": {
        "colab": {
          "base_uri": "https://localhost:8080/"
        },
        "id": "0HGyt-lJMoCD",
        "outputId": "5d309a4f-3496-48e9-9f7b-be536e07cde6"
      },
      "execution_count": 65,
      "outputs": [
        {
          "output_type": "stream",
          "name": "stdout",
          "text": [
            "<class 'pandas.core.frame.DataFrame'>\n",
            "RangeIndex: 950 entries, 0 to 949\n",
            "Data columns (total 30 columns):\n",
            " #   Column                  Non-Null Count  Dtype  \n",
            "---  ------                  --------------  -----  \n",
            " 0   patientid               950 non-null    object \n",
            " 1   offset                  697 non-null    float64\n",
            " 2   sex                     870 non-null    object \n",
            " 3   age                     713 non-null    float64\n",
            " 4   finding                 950 non-null    object \n",
            " 5   RT_PCR_positive         593 non-null    object \n",
            " 6   survival                361 non-null    object \n",
            " 7   intubated               248 non-null    object \n",
            " 8   intubation_present      250 non-null    object \n",
            " 9   went_icu                397 non-null    object \n",
            " 10  in_icu                  335 non-null    object \n",
            " 11  needed_supplemental_O2  90 non-null     object \n",
            " 12  extubated               37 non-null     object \n",
            " 13  temperature             78 non-null     float64\n",
            " 14  pO2_saturation          119 non-null    float64\n",
            " 15  leukocyte_count         16 non-null     float64\n",
            " 16  neutrophil_count        28 non-null     float64\n",
            " 17  lymphocyte_count        40 non-null     float64\n",
            " 18  view                    950 non-null    object \n",
            " 19  modality                950 non-null    object \n",
            " 20  date                    661 non-null    object \n",
            " 21  location                894 non-null    object \n",
            " 22  folder                  950 non-null    object \n",
            " 23  filename                950 non-null    object \n",
            " 24  doi                     382 non-null    object \n",
            " 25  url                     950 non-null    object \n",
            " 26  license                 705 non-null    object \n",
            " 27  clinical_notes          768 non-null    object \n",
            " 28  other_notes             436 non-null    object \n",
            " 29  Unnamed: 29             5 non-null      object \n",
            "dtypes: float64(7), object(23)\n",
            "memory usage: 222.8+ KB\n"
          ]
        }
      ]
    },
    {
      "cell_type": "code",
      "source": [
        "metadata[\"finding\"].unique()"
      ],
      "metadata": {
        "colab": {
          "base_uri": "https://localhost:8080/"
        },
        "id": "Cm8xYWvBLwSu",
        "outputId": "eff97fd3-4653-4e17-cd0f-dd9782a04166"
      },
      "execution_count": 66,
      "outputs": [
        {
          "output_type": "execute_result",
          "data": {
            "text/plain": [
              "array(['Pneumonia/Viral/COVID-19', 'Pneumonia', 'Pneumonia/Viral/SARS',\n",
              "       'Pneumonia/Fungal/Pneumocystis',\n",
              "       'Pneumonia/Bacterial/Streptococcus', 'No Finding',\n",
              "       'Pneumonia/Bacterial/Chlamydophila', 'Pneumonia/Bacterial/E.Coli',\n",
              "       'Pneumonia/Bacterial/Klebsiella', 'Pneumonia/Bacterial/Legionella',\n",
              "       'Unknown', 'Pneumonia/Lipoid', 'Pneumonia/Viral/Varicella',\n",
              "       'Pneumonia/Bacterial', 'Pneumonia/Bacterial/Mycoplasma',\n",
              "       'Pneumonia/Viral/Influenza', 'todo', 'Tuberculosis',\n",
              "       'Pneumonia/Viral/Influenza/H1N1', 'Pneumonia/Fungal/Aspergillosis',\n",
              "       'Pneumonia/Viral/Herpes ', 'Pneumonia/Aspiration',\n",
              "       'Pneumonia/Bacterial/Nocardia', 'Pneumonia/Viral/MERS-CoV',\n",
              "       'Pneumonia/Bacterial/Staphylococcus/MRSA'], dtype=object)"
            ]
          },
          "metadata": {},
          "execution_count": 66
        }
      ]
    },
    {
      "cell_type": "code",
      "source": [
        "metadata=metadata.drop(metadata[metadata[\"finding\"].str.contains(\"No Finding\")].index)\n",
        "metadata=metadata.drop(metadata[metadata[\"finding\"].str.contains(\"Unknown\")].index)\n",
        "metadata=metadata.drop(metadata[metadata[\"finding\"].str.contains(\"todo\")].index)"
      ],
      "metadata": {
        "id": "vCfUU0E-NXnx"
      },
      "execution_count": 67,
      "outputs": []
    },
    {
      "cell_type": "code",
      "source": [
        "metadata=metadata.reset_index()"
      ],
      "metadata": {
        "id": "EjJtCXx3SkuR"
      },
      "execution_count": 73,
      "outputs": []
    },
    {
      "cell_type": "code",
      "source": [
        "metadata.loc[8][\"finding\"]"
      ],
      "metadata": {
        "colab": {
          "base_uri": "https://localhost:8080/",
          "height": 35
        },
        "id": "jpprZcUvT23h",
        "outputId": "3dd9784f-6303-4d40-de4b-251f5a04a458"
      },
      "execution_count": 75,
      "outputs": [
        {
          "output_type": "execute_result",
          "data": {
            "text/plain": [
              "'Pneumonia/Viral/COVID-19'"
            ],
            "application/vnd.google.colaboratory.intrinsic+json": {
              "type": "string"
            }
          },
          "metadata": {},
          "execution_count": 75
        }
      ]
    },
    {
      "cell_type": "code",
      "source": [
        "for i in range(len(metadata)):\n",
        "  try:\n",
        "    if(metadata.loc[i][\"finding\"]==\"Pneumonia/Viral/COVID-19\"):\n",
        "      shutil.copyfile(os.path.join(\"/content/covid-chestxray-dataset/images\",metadata.loc[i][\"filename\"]),os.path.join(\"/content/data/covid\",metadata.loc[i][\"filename\"]))\n",
        "    else:\n",
        "      shutil.copyfile(os.path.join(\"/content/covid-chestxray-dataset/images\",metadata.loc[i][\"filename\"]),os.path.join(\"/content/data/non-covid\",metadata.loc[i][\"filename\"]))\n",
        "  except:\n",
        "    print(metadata.loc[i][\"filename\"])"
      ],
      "metadata": {
        "colab": {
          "base_uri": "https://localhost:8080/"
        },
        "id": "dAcbi31jO_Eb",
        "outputId": "10bc67ba-3715-4007-cdfa-95e0732ff73a"
      },
      "execution_count": 80,
      "outputs": [
        {
          "output_type": "stream",
          "name": "stdout",
          "text": [
            "radiopaedia_org_covid-19-pneumonia-7_85703_0-dcm.nii.gz\n",
            "radiopaedia_org_covid-19-pneumonia-14_85914_0-dcm.nii.gz\n",
            "coronacases_org_001.nii.gz\n",
            "coronacases_org_002.nii.gz\n",
            "coronacases_org_003.nii.gz\n",
            "coronacases_org_004.nii.gz\n",
            "coronacases_org_005.nii.gz\n",
            "coronacases_org_006.nii.gz\n",
            "coronacases_org_007.nii.gz\n",
            "coronacases_org_008.nii.gz\n",
            "coronacases_org_009.nii.gz\n",
            "coronacases_org_010.nii.gz\n",
            "radiopaedia_org_covid-19-pneumonia-4_85506_1-dcm.nii.gz\n",
            "radiopaedia_org_covid-19-pneumonia-29_86490_1-dcm.nii.gz\n",
            "radiopaedia_org_covid-19-pneumonia-29_86491_1-dcm.nii.gz\n",
            "radiopaedia_org_covid-19-pneumonia-23_86359_0-dcm.nii.gz\n",
            "radiopaedia_org_covid-19-pneumonia-10_85902_1-dcm.nii.gz\n",
            "radiopaedia_org_covid-19-pneumonia-10_85902_3-dcm.nii.gz\n",
            "radiopaedia_org_covid-19-pneumonia-36_86526_0-dcm.nii.gz\n",
            "radiopaedia_org_covid-19-pneumonia-27_86410_0-dcm.nii.gz\n",
            "radiopaedia_org_covid-19-pneumonia-40_86625_0-dcm.nii.gz\n"
          ]
        }
      ]
    },
    {
      "cell_type": "code",
      "source": [],
      "metadata": {
        "id": "3DPqilOoWYBa"
      },
      "execution_count": null,
      "outputs": []
    },
    {
      "cell_type": "code",
      "source": [
        "root=\"/content/gdrive/MyDrive/data/chest_xray/val\"\n",
        "\n",
        "for x in os.listdir(root):\n",
        "  if(x==\"PNEUMONIA\"):\n",
        "    for y in os.listdir(os.path.join(root,x)):\n",
        "      shutil.copyfile(os.path.join(root,\"PNEUMONIA\",y),os.path.join(\"/content/data/non_cov\",y))"
      ],
      "metadata": {
        "id": "utdPODVRqV-P"
      },
      "execution_count": null,
      "outputs": []
    },
    {
      "cell_type": "code",
      "source": [
        "shutil.rmtree(\"/content/gdrive/MyDrive/data\")"
      ],
      "metadata": {
        "id": "szuwyzeZywo2"
      },
      "execution_count": null,
      "outputs": []
    },
    {
      "cell_type": "code",
      "source": [
        "img_dir=\"/content/covid-chestxray-dataset/images\""
      ],
      "metadata": {
        "id": "K-AyII7ujsyh"
      },
      "execution_count": null,
      "outputs": []
    },
    {
      "cell_type": "code",
      "source": [
        "len(os.listdir(img_dir))"
      ],
      "metadata": {
        "colab": {
          "base_uri": "https://localhost:8080/"
        },
        "id": "dDuF4R-1jfrt",
        "outputId": "03434583-cc39-4677-8737-0254f0e3dc7b"
      },
      "execution_count": null,
      "outputs": [
        {
          "output_type": "execute_result",
          "data": {
            "text/plain": [
              "930"
            ]
          },
          "metadata": {},
          "execution_count": 6
        }
      ]
    },
    {
      "cell_type": "code",
      "source": [
        "for subdir in os.listdir(testDir):\n",
        "  print(subdir+\": \"+str(len(os.path.join(testDir, subdir))))"
      ],
      "metadata": {
        "colab": {
          "base_uri": "https://localhost:8080/"
        },
        "id": "TCa3TCRLkoGF",
        "outputId": "999c7a03-0d37-49d3-bed2-fb7f0d5e5e64"
      },
      "execution_count": null,
      "outputs": [
        {
          "output_type": "stream",
          "name": "stdout",
          "text": [
            "COVID19: 46\n",
            "NORMAL: 45\n",
            "PNEUMONIA: 48\n"
          ]
        }
      ]
    },
    {
      "cell_type": "code",
      "source": [
        "imagesInfo=[[],[],[]]\n",
        "\n",
        "for subdir in os.listdir(trainDir):\n",
        "  for image in os.listdir(os.path.join(trainDir, subdir)):\n",
        "    img=Image.open(os.path.join(trainDir, subdir, image))\n",
        "    imagesInfo[0].append(img.size[0])\n",
        "    imagesInfo[1].append(img.size[1])\n",
        "    imagesInfo[2].append(img.mode)"
      ],
      "metadata": {
        "id": "Py6iURBYj4cs"
      },
      "execution_count": null,
      "outputs": []
    },
    {
      "cell_type": "code",
      "source": [
        "sns.scatterplot(imagesInfo[0],imagesInfo[1])\n",
        "plt.xlabel(\"number of horizental pixels\")\n",
        "plt.ylabel(\"number of vertical pixels\")"
      ],
      "metadata": {
        "colab": {
          "base_uri": "https://localhost:8080/",
          "height": 639
        },
        "id": "beCDCJAVmgtR",
        "outputId": "a006fc37-0447-4e1a-ff98-023802584d0d"
      },
      "execution_count": null,
      "outputs": [
        {
          "output_type": "stream",
          "name": "stderr",
          "text": [
            "/usr/local/lib/python3.7/dist-packages/seaborn/_decorators.py:43: FutureWarning: Pass the following variables as keyword args: x, y. From version 0.12, the only valid positional argument will be `data`, and passing other arguments without an explicit keyword will result in an error or misinterpretation.\n",
            "  FutureWarning\n"
          ]
        },
        {
          "output_type": "execute_result",
          "data": {
            "text/plain": [
              "Text(0, 0.5, 'number of vertical pixels')"
            ]
          },
          "metadata": {},
          "execution_count": 29
        },
        {
          "output_type": "display_data",
          "data": {
            "text/plain": [
              "<Figure size 900x600 with 1 Axes>"
            ],
            "image/png": "[encoded data removed]"
          },
          "metadata": {
            "needs_background": "light"
          }
        }
      ]
    },
    {
      "cell_type": "code",
      "source": [
        "sns.histplot(imagesInfo[2])"
      ],
      "metadata": {
        "colab": {
          "base_uri": "https://localhost:8080/",
          "height": 553
        },
        "id": "njj1WwLynNvk",
        "outputId": "a2dbf55f-36d6-4b19-d284-8c7ffbcee19a"
      },
      "execution_count": null,
      "outputs": [
        {
          "output_type": "execute_result",
          "data": {
            "text/plain": [
              "<matplotlib.axes._subplots.AxesSubplot at 0x7fe1c6e57810>"
            ]
          },
          "metadata": {},
          "execution_count": 35
        },
        {
          "output_type": "display_data",
          "data": {
            "text/plain": [
              "<Figure size 900x600 with 1 Axes>"
            ],
            "image/png": "[encoded data removed]"
          },
          "metadata": {
            "needs_background": "light"
          }
        }
      ]
    },
    {
      "cell_type": "code",
      "source": [],
      "metadata": {
        "id": "brfmNtdko5UP"
      },
      "execution_count": null,
      "outputs": []
    }
  ]
}